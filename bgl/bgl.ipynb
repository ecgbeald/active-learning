{
 "cells": [
  {
   "cell_type": "code",
   "execution_count": 1,
   "id": "c50c934f",
   "metadata": {},
   "outputs": [
    {
     "name": "stdout",
     "output_type": "stream",
     "text": [
      "Unique events: 1848\n",
      "Unique machines: 69252\n"
     ]
    },
    {
     "data": {
      "text/html": [
       "<div>\n",
       "<style scoped>\n",
       "    .dataframe tbody tr th:only-of-type {\n",
       "        vertical-align: middle;\n",
       "    }\n",
       "\n",
       "    .dataframe tbody tr th {\n",
       "        vertical-align: top;\n",
       "    }\n",
       "\n",
       "    .dataframe thead th {\n",
       "        text-align: right;\n",
       "    }\n",
       "</style>\n",
       "<table border=\"1\" class=\"dataframe\">\n",
       "  <thead>\n",
       "    <tr style=\"text-align: right;\">\n",
       "      <th></th>\n",
       "      <th>event</th>\n",
       "      <th>machine</th>\n",
       "      <th>timestamp</th>\n",
       "      <th>label</th>\n",
       "    </tr>\n",
       "  </thead>\n",
       "  <tbody>\n",
       "    <tr>\n",
       "      <th>0</th>\n",
       "      <td>1</td>\n",
       "      <td>1</td>\n",
       "      <td>0</td>\n",
       "      <td>0</td>\n",
       "    </tr>\n",
       "    <tr>\n",
       "      <th>1</th>\n",
       "      <td>1</td>\n",
       "      <td>1</td>\n",
       "      <td>0</td>\n",
       "      <td>0</td>\n",
       "    </tr>\n",
       "    <tr>\n",
       "      <th>2</th>\n",
       "      <td>1</td>\n",
       "      <td>1</td>\n",
       "      <td>0</td>\n",
       "      <td>0</td>\n",
       "    </tr>\n",
       "    <tr>\n",
       "      <th>3</th>\n",
       "      <td>1</td>\n",
       "      <td>1</td>\n",
       "      <td>0</td>\n",
       "      <td>0</td>\n",
       "    </tr>\n",
       "    <tr>\n",
       "      <th>4</th>\n",
       "      <td>1</td>\n",
       "      <td>1</td>\n",
       "      <td>0</td>\n",
       "      <td>0</td>\n",
       "    </tr>\n",
       "    <tr>\n",
       "      <th>...</th>\n",
       "      <td>...</td>\n",
       "      <td>...</td>\n",
       "      <td>...</td>\n",
       "      <td>...</td>\n",
       "    </tr>\n",
       "    <tr>\n",
       "      <th>4713488</th>\n",
       "      <td>1058</td>\n",
       "      <td>6497</td>\n",
       "      <td>18551835</td>\n",
       "      <td>1</td>\n",
       "    </tr>\n",
       "    <tr>\n",
       "      <th>4713489</th>\n",
       "      <td>1058</td>\n",
       "      <td>6244</td>\n",
       "      <td>18551835</td>\n",
       "      <td>1</td>\n",
       "    </tr>\n",
       "    <tr>\n",
       "      <th>4713490</th>\n",
       "      <td>1058</td>\n",
       "      <td>6414</td>\n",
       "      <td>18551835</td>\n",
       "      <td>1</td>\n",
       "    </tr>\n",
       "    <tr>\n",
       "      <th>4713491</th>\n",
       "      <td>1058</td>\n",
       "      <td>6276</td>\n",
       "      <td>18551835</td>\n",
       "      <td>1</td>\n",
       "    </tr>\n",
       "    <tr>\n",
       "      <th>4713492</th>\n",
       "      <td>1058</td>\n",
       "      <td>6390</td>\n",
       "      <td>18551835</td>\n",
       "      <td>1</td>\n",
       "    </tr>\n",
       "  </tbody>\n",
       "</table>\n",
       "<p>4713493 rows × 4 columns</p>\n",
       "</div>"
      ],
      "text/plain": [
       "         event  machine  timestamp  label\n",
       "0            1        1          0      0\n",
       "1            1        1          0      0\n",
       "2            1        1          0      0\n",
       "3            1        1          0      0\n",
       "4            1        1          0      0\n",
       "...        ...      ...        ...    ...\n",
       "4713488   1058     6497   18551835      1\n",
       "4713489   1058     6244   18551835      1\n",
       "4713490   1058     6414   18551835      1\n",
       "4713491   1058     6276   18551835      1\n",
       "4713492   1058     6390   18551835      1\n",
       "\n",
       "[4713493 rows x 4 columns]"
      ]
     },
     "execution_count": 1,
     "metadata": {},
     "output_type": "execute_result"
    }
   ],
   "source": [
    "import pandas as pd\n",
    "import os\n",
    "import sys\n",
    "import numpy as np\n",
    "\n",
    "sys.path.append(os.path.abspath(\"..\"))\n",
    "df = pd.read_csv(\"BGL.log_structured.csv\")\n",
    "\n",
    "df.drop(columns=['LineId','Date', 'Time', 'NodeRepeat', 'Type', 'Component', 'Level', 'Content', 'EventTemplate', 'ParameterList'], inplace=True)\n",
    "unique_events = df['EventId'].unique()\n",
    "print(f\"Unique events: {len(unique_events)}\")\n",
    "events_map = {event: idx + 1 for idx, event in enumerate(unique_events)}\n",
    "df['event'] = df['EventId'].map(events_map)\n",
    "unique_machines = df['Node'].unique()\n",
    "print(f\"Unique machines: {len(unique_machines)}\")\n",
    "machines_map = {mac: idx + 1 for idx, mac in enumerate(unique_machines)}\n",
    "df['machine'] = df['Node'].map(machines_map)\n",
    "\n",
    "df['timestamp'] = df['Timestamp'].astype(int)\n",
    "df.sort_values(by=['timestamp'], inplace=True)\n",
    "min_timestamp = df['timestamp'].min()\n",
    "df['timestamp'] = df['timestamp'] - min_timestamp\n",
    "\n",
    "df['label'] = np.where(\n",
    "    df['Label'] == '-',  # if alert_flag is '-', it's not an alert\n",
    "    0,  # not an alert\n",
    "    1   # is an alert\n",
    ")\n",
    "df.drop(columns=['Timestamp', 'Label', 'Node', 'EventId'], inplace=True)\n",
    "\n",
    "df"
   ]
  },
  {
   "cell_type": "code",
   "execution_count": 2,
   "id": "e29b5c63",
   "metadata": {},
   "outputs": [
    {
     "name": "stdout",
     "output_type": "stream",
     "text": [
      "Created 1848 priority tokens\n",
      "\n",
      "\n",
      "\n"
     ]
    }
   ],
   "source": [
    "from tokenizer import tokenize\n",
    "\n",
    "tokenize(df, save_path=\"./numeric_tokenizer\")"
   ]
  },
  {
   "cell_type": "code",
   "execution_count": 3,
   "id": "e6ef36b7",
   "metadata": {},
   "outputs": [
    {
     "name": "stdout",
     "output_type": "stream",
     "text": [
      "Using device: cuda\n",
      "Starting training...\n",
      "==================================================\n",
      "\n",
      "Epoch 1/10\n",
      "------------------------------\n"
     ]
    },
    {
     "name": "stderr",
     "output_type": "stream",
     "text": [
      "Training: 100%|██████████| 4/4 [00:00<00:00,  6.50it/s, loss=0.7041, acc=0.6250, lr=2.00e-05]\n"
     ]
    },
    {
     "name": "stdout",
     "output_type": "stream",
     "text": [
      "\n",
      "Epoch 1 Summary:\n",
      "Train Loss: 0.7143, Train Acc: 0.5234\n",
      "Learning Rate: 2.00e-05\n",
      "\n",
      "Epoch 2/10\n",
      "------------------------------\n"
     ]
    },
    {
     "name": "stderr",
     "output_type": "stream",
     "text": [
      "Training: 100%|██████████| 4/4 [00:00<00:00, 38.13it/s, loss=0.7882, acc=0.2500, lr=1.78e-05]\n"
     ]
    },
    {
     "name": "stdout",
     "output_type": "stream",
     "text": [
      "\n",
      "Epoch 2 Summary:\n",
      "Train Loss: 0.7118, Train Acc: 0.4648\n",
      "Learning Rate: 1.78e-05\n",
      "\n",
      "Epoch 3/10\n",
      "------------------------------\n"
     ]
    },
    {
     "name": "stderr",
     "output_type": "stream",
     "text": [
      "Training: 100%|██████████| 4/4 [00:00<00:00, 38.42it/s, loss=0.6844, acc=0.6250, lr=1.56e-05]\n"
     ]
    },
    {
     "name": "stdout",
     "output_type": "stream",
     "text": [
      "\n",
      "Epoch 3 Summary:\n",
      "Train Loss: 0.6899, Train Acc: 0.5430\n",
      "Learning Rate: 1.56e-05\n",
      "\n",
      "Epoch 4/10\n",
      "------------------------------\n"
     ]
    },
    {
     "name": "stderr",
     "output_type": "stream",
     "text": [
      "Training: 100%|██████████| 4/4 [00:00<00:00, 38.74it/s, loss=0.6705, acc=0.6250, lr=1.33e-05]\n"
     ]
    },
    {
     "name": "stdout",
     "output_type": "stream",
     "text": [
      "\n",
      "Epoch 4 Summary:\n",
      "Train Loss: 0.6788, Train Acc: 0.5898\n",
      "Learning Rate: 1.33e-05\n",
      "\n",
      "Epoch 5/10\n",
      "------------------------------\n"
     ]
    },
    {
     "name": "stderr",
     "output_type": "stream",
     "text": [
      "Training: 100%|██████████| 4/4 [00:00<00:00, 37.14it/s, loss=0.6392, acc=0.8750, lr=1.11e-05]\n"
     ]
    },
    {
     "name": "stdout",
     "output_type": "stream",
     "text": [
      "\n",
      "Epoch 5 Summary:\n",
      "Train Loss: 0.6730, Train Acc: 0.6289\n",
      "Learning Rate: 1.11e-05\n",
      "\n",
      "Epoch 6/10\n",
      "------------------------------\n"
     ]
    },
    {
     "name": "stderr",
     "output_type": "stream",
     "text": [
      "Training: 100%|██████████| 4/4 [00:00<00:00, 38.36it/s, loss=0.7169, acc=0.5000, lr=8.89e-06]\n"
     ]
    },
    {
     "name": "stdout",
     "output_type": "stream",
     "text": [
      "\n",
      "Epoch 6 Summary:\n",
      "Train Loss: 0.6930, Train Acc: 0.5508\n",
      "Learning Rate: 8.89e-06\n",
      "\n",
      "Epoch 7/10\n",
      "------------------------------\n"
     ]
    },
    {
     "name": "stderr",
     "output_type": "stream",
     "text": [
      "Training: 100%|██████████| 4/4 [00:00<00:00, 37.88it/s, loss=0.6914, acc=0.5000, lr=6.67e-06]\n"
     ]
    },
    {
     "name": "stdout",
     "output_type": "stream",
     "text": [
      "\n",
      "Epoch 7 Summary:\n",
      "Train Loss: 0.6795, Train Acc: 0.5664\n",
      "Learning Rate: 6.67e-06\n",
      "\n",
      "Epoch 8/10\n",
      "------------------------------\n"
     ]
    },
    {
     "name": "stderr",
     "output_type": "stream",
     "text": [
      "Training: 100%|██████████| 4/4 [00:00<00:00, 41.06it/s, loss=0.6942, acc=0.5000, lr=4.44e-06]\n"
     ]
    },
    {
     "name": "stdout",
     "output_type": "stream",
     "text": [
      "\n",
      "Epoch 8 Summary:\n",
      "Train Loss: 0.6816, Train Acc: 0.5586\n",
      "Learning Rate: 4.44e-06\n",
      "\n",
      "Epoch 9/10\n",
      "------------------------------\n"
     ]
    },
    {
     "name": "stderr",
     "output_type": "stream",
     "text": [
      "Training: 100%|██████████| 4/4 [00:00<00:00, 38.33it/s, loss=0.7138, acc=0.5000, lr=2.22e-06]\n"
     ]
    },
    {
     "name": "stdout",
     "output_type": "stream",
     "text": [
      "\n",
      "Epoch 9 Summary:\n",
      "Train Loss: 0.6838, Train Acc: 0.5820\n",
      "Learning Rate: 2.22e-06\n",
      "\n",
      "Epoch 10/10\n",
      "------------------------------\n"
     ]
    },
    {
     "name": "stderr",
     "output_type": "stream",
     "text": [
      "Training: 100%|██████████| 4/4 [00:00<00:00, 40.31it/s, loss=0.7184, acc=0.3750, lr=0.00e+00]\n"
     ]
    },
    {
     "name": "stdout",
     "output_type": "stream",
     "text": [
      "\n",
      "Epoch 10 Summary:\n",
      "Train Loss: 0.6884, Train Acc: 0.5352\n",
      "Learning Rate: 0.00e+00\n",
      "\n",
      "==================================================\n",
      "Training completed!\n",
      "Best training accuracy: 0.6289\n"
     ]
    },
    {
     "name": "stderr",
     "output_type": "stream",
     "text": [
      "/home/rm521/.venv/lib/python3.12/site-packages/small_text/utils/annotations.py:67: ExperimentalWarning: The function from_arrays is experimental and maybe subject to change soon.\n",
      "  warnings.warn(f'The {subject} {func_or_class.__name__} is experimental '\n"
     ]
    },
    {
     "name": "stdout",
     "output_type": "stream",
     "text": [
      "Train accuracy: 0.95200\n",
      "Test accuracy: 0.94652\n",
      "Test F1 score: 0.95226\n",
      "Confusion Matrix (Test):\n",
      "[[107557    333]\n",
      " [ 13589 138844]]\n"
     ]
    },
    {
     "name": "stderr",
     "output_type": "stream",
     "text": [
      "100%|██████████| 260124/260124 [00:48<00:00, 5311.89it/s]\n"
     ]
    },
    {
     "name": "stdout",
     "output_type": "stream",
     "text": [
      "Train accuracy: 0.98167\n",
      "Test accuracy: 0.98232\n",
      "Test F1 score: 0.98494\n",
      "Confusion Matrix (Test):\n",
      "[[105258   2632]\n",
      " [  1970 150463]]\n"
     ]
    },
    {
     "name": "stderr",
     "output_type": "stream",
     "text": [
      "100%|██████████| 260124/260124 [00:47<00:00, 5452.74it/s]\n"
     ]
    },
    {
     "name": "stdout",
     "output_type": "stream",
     "text": [
      "Train accuracy: 0.93571\n",
      "Test accuracy: 0.97208\n",
      "Test F1 score: 0.97642\n",
      "Confusion Matrix (Test):\n",
      "[[102592   5298]\n",
      " [  1970 150463]]\n"
     ]
    },
    {
     "name": "stderr",
     "output_type": "stream",
     "text": [
      "100%|██████████| 260124/260124 [00:56<00:00, 4612.93it/s]\n"
     ]
    },
    {
     "name": "stdout",
     "output_type": "stream",
     "text": [
      "Train accuracy: 0.99250\n",
      "Test accuracy: 0.99327\n",
      "Test F1 score: 0.99425\n",
      "Confusion Matrix (Test):\n",
      "[[106928    962]\n",
      " [   791 151642]]\n"
     ]
    },
    {
     "name": "stderr",
     "output_type": "stream",
     "text": [
      "100%|██████████| 260124/260124 [00:53<00:00, 4823.28it/s]\n"
     ]
    },
    {
     "name": "stdout",
     "output_type": "stream",
     "text": [
      "Train accuracy: 0.99222\n",
      "Test accuracy: 0.99503\n",
      "Test F1 score: 0.99575\n",
      "Confusion Matrix (Test):\n",
      "[[107159    731]\n",
      " [   564 151869]]\n"
     ]
    },
    {
     "name": "stderr",
     "output_type": "stream",
     "text": [
      "100%|██████████| 260124/260124 [01:28<00:00, 2930.99it/s]\n"
     ]
    },
    {
     "name": "stdout",
     "output_type": "stream",
     "text": [
      "Train accuracy: 0.99200\n",
      "Test accuracy: 0.99688\n",
      "Test F1 score: 0.99734\n",
      "Confusion Matrix (Test):\n",
      "[[107539    351]\n",
      " [   461 151972]]\n"
     ]
    },
    {
     "data": {
      "text/plain": [
       "<small_text.integrations.transformers.classifiers.classification.TransformerBasedClassification at 0x7c475b9e4860>"
      ]
     },
     "execution_count": 3,
     "metadata": {},
     "output_type": "execute_result"
    }
   ],
   "source": [
    "from train import train\n",
    "\n",
    "train(df, tokenizer_path=\"./numeric_tokenizer\", debug=True, num_queries_al=5)\n"
   ]
  }
 ],
 "metadata": {
  "kernelspec": {
   "display_name": ".venv (3.12.3)",
   "language": "python",
   "name": "python3"
  },
  "language_info": {
   "codemirror_mode": {
    "name": "ipython",
    "version": 3
   },
   "file_extension": ".py",
   "mimetype": "text/x-python",
   "name": "python",
   "nbconvert_exporter": "python",
   "pygments_lexer": "ipython3",
   "version": "3.12.3"
  }
 },
 "nbformat": 4,
 "nbformat_minor": 5
}
