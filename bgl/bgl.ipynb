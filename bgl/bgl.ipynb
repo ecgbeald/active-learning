{
 "cells": [
  {
   "cell_type": "code",
   "execution_count": 1,
   "id": "c50c934f",
   "metadata": {},
   "outputs": [
    {
     "name": "stdout",
     "output_type": "stream",
     "text": [
      "Unique events: 1848\n",
      "Unique machines: 69252\n"
     ]
    },
    {
     "data": {
      "text/html": [
       "<div>\n",
       "<style scoped>\n",
       "    .dataframe tbody tr th:only-of-type {\n",
       "        vertical-align: middle;\n",
       "    }\n",
       "\n",
       "    .dataframe tbody tr th {\n",
       "        vertical-align: top;\n",
       "    }\n",
       "\n",
       "    .dataframe thead th {\n",
       "        text-align: right;\n",
       "    }\n",
       "</style>\n",
       "<table border=\"1\" class=\"dataframe\">\n",
       "  <thead>\n",
       "    <tr style=\"text-align: right;\">\n",
       "      <th></th>\n",
       "      <th>event</th>\n",
       "      <th>machine</th>\n",
       "      <th>timestamp</th>\n",
       "      <th>label</th>\n",
       "    </tr>\n",
       "  </thead>\n",
       "  <tbody>\n",
       "    <tr>\n",
       "      <th>0</th>\n",
       "      <td>1</td>\n",
       "      <td>1</td>\n",
       "      <td>0</td>\n",
       "      <td>0</td>\n",
       "    </tr>\n",
       "    <tr>\n",
       "      <th>1</th>\n",
       "      <td>1</td>\n",
       "      <td>1</td>\n",
       "      <td>0</td>\n",
       "      <td>0</td>\n",
       "    </tr>\n",
       "    <tr>\n",
       "      <th>2</th>\n",
       "      <td>1</td>\n",
       "      <td>1</td>\n",
       "      <td>0</td>\n",
       "      <td>0</td>\n",
       "    </tr>\n",
       "    <tr>\n",
       "      <th>3</th>\n",
       "      <td>1</td>\n",
       "      <td>1</td>\n",
       "      <td>0</td>\n",
       "      <td>0</td>\n",
       "    </tr>\n",
       "    <tr>\n",
       "      <th>4</th>\n",
       "      <td>1</td>\n",
       "      <td>1</td>\n",
       "      <td>0</td>\n",
       "      <td>0</td>\n",
       "    </tr>\n",
       "    <tr>\n",
       "      <th>...</th>\n",
       "      <td>...</td>\n",
       "      <td>...</td>\n",
       "      <td>...</td>\n",
       "      <td>...</td>\n",
       "    </tr>\n",
       "    <tr>\n",
       "      <th>4713488</th>\n",
       "      <td>1058</td>\n",
       "      <td>6497</td>\n",
       "      <td>18551835</td>\n",
       "      <td>1</td>\n",
       "    </tr>\n",
       "    <tr>\n",
       "      <th>4713489</th>\n",
       "      <td>1058</td>\n",
       "      <td>6244</td>\n",
       "      <td>18551835</td>\n",
       "      <td>1</td>\n",
       "    </tr>\n",
       "    <tr>\n",
       "      <th>4713490</th>\n",
       "      <td>1058</td>\n",
       "      <td>6414</td>\n",
       "      <td>18551835</td>\n",
       "      <td>1</td>\n",
       "    </tr>\n",
       "    <tr>\n",
       "      <th>4713491</th>\n",
       "      <td>1058</td>\n",
       "      <td>6276</td>\n",
       "      <td>18551835</td>\n",
       "      <td>1</td>\n",
       "    </tr>\n",
       "    <tr>\n",
       "      <th>4713492</th>\n",
       "      <td>1058</td>\n",
       "      <td>6390</td>\n",
       "      <td>18551835</td>\n",
       "      <td>1</td>\n",
       "    </tr>\n",
       "  </tbody>\n",
       "</table>\n",
       "<p>4713493 rows × 4 columns</p>\n",
       "</div>"
      ],
      "text/plain": [
       "         event  machine  timestamp  label\n",
       "0            1        1          0      0\n",
       "1            1        1          0      0\n",
       "2            1        1          0      0\n",
       "3            1        1          0      0\n",
       "4            1        1          0      0\n",
       "...        ...      ...        ...    ...\n",
       "4713488   1058     6497   18551835      1\n",
       "4713489   1058     6244   18551835      1\n",
       "4713490   1058     6414   18551835      1\n",
       "4713491   1058     6276   18551835      1\n",
       "4713492   1058     6390   18551835      1\n",
       "\n",
       "[4713493 rows x 4 columns]"
      ]
     },
     "execution_count": 1,
     "metadata": {},
     "output_type": "execute_result"
    }
   ],
   "source": [
    "import pandas as pd\n",
    "import os\n",
    "import sys\n",
    "import numpy as np\n",
    "\n",
    "sys.path.append(os.path.abspath(\"..\"))\n",
    "df = pd.read_csv(\"BGL.log_structured.csv\")\n",
    "\n",
    "df.drop(columns=['LineId','Date', 'Time', 'NodeRepeat', 'Type', 'Component', 'Level', 'Content', 'EventTemplate', 'ParameterList'], inplace=True)\n",
    "unique_events = df['EventId'].unique()\n",
    "print(f\"Unique events: {len(unique_events)}\")\n",
    "events_map = {event: idx + 1 for idx, event in enumerate(unique_events)}\n",
    "df['event'] = df['EventId'].map(events_map)\n",
    "unique_machines = df['Node'].unique()\n",
    "print(f\"Unique machines: {len(unique_machines)}\")\n",
    "machines_map = {mac: idx + 1 for idx, mac in enumerate(unique_machines)}\n",
    "df['machine'] = df['Node'].map(machines_map)\n",
    "\n",
    "df['timestamp'] = df['Timestamp'].astype(int)\n",
    "df.sort_values(by=['timestamp'], inplace=True)\n",
    "min_timestamp = df['timestamp'].min()\n",
    "df['timestamp'] = df['timestamp'] - min_timestamp\n",
    "\n",
    "df['label'] = np.where(\n",
    "    df['Label'] == '-',  # if alert_flag is '-', it's not an alert\n",
    "    0,  # not an alert\n",
    "    1   # is an alert\n",
    ")\n",
    "df.drop(columns=['Timestamp', 'Label', 'Node', 'EventId'], inplace=True)\n",
    "\n",
    "df"
   ]
  },
  {
   "cell_type": "code",
   "execution_count": 2,
   "id": "e29b5c63",
   "metadata": {},
   "outputs": [
    {
     "name": "stdout",
     "output_type": "stream",
     "text": [
      "Created 1848 priority tokens\n",
      "\n",
      "\n",
      "\n"
     ]
    }
   ],
   "source": [
    "from tokenizer import tokenize\n",
    "\n",
    "tokenize(df, save_path=\"./numeric_tokenizer\")"
   ]
  },
  {
   "cell_type": "code",
   "execution_count": 3,
   "id": "e6ef36b7",
   "metadata": {},
   "outputs": [
    {
     "name": "stdout",
     "output_type": "stream",
     "text": [
      "Using device: cuda\n",
      "\n",
      "Epoch 1/2\n"
     ]
    },
    {
     "name": "stderr",
     "output_type": "stream",
     "text": [
      "MLM Training: 100%|██████████| 9671/9671 [21:09<00:00,  7.62it/s, loss=1.4416, acc=0.6774, lr=2.50e-05]\n"
     ]
    },
    {
     "name": "stdout",
     "output_type": "stream",
     "text": [
      "Train Loss: 1.6821, Train Acc: 0.6579\n",
      "\n",
      "Epoch 2/2\n"
     ]
    },
    {
     "name": "stderr",
     "output_type": "stream",
     "text": [
      "MLM Training: 100%|██████████| 9671/9671 [21:32<00:00,  7.48it/s, loss=1.1508, acc=0.7391, lr=0.00e+00]\n"
     ]
    },
    {
     "name": "stdout",
     "output_type": "stream",
     "text": [
      "Train Loss: 1.2936, Train Acc: 0.7024\n",
      "Best loss: 1.2936\n",
      "loaded 39 tensors\n",
      "Model saved to ./pretrained_classifier\n"
     ]
    },
    {
     "name": "stderr",
     "output_type": "stream",
     "text": [
      "/home/rm521/.venv/lib/python3.12/site-packages/small_text/utils/annotations.py:67: ExperimentalWarning: The function from_arrays is experimental and maybe subject to change soon.\n",
      "  warnings.warn(f'The {subject} {func_or_class.__name__} is experimental '\n"
     ]
    },
    {
     "name": "stdout",
     "output_type": "stream",
     "text": [
      "Train accuracy: 0.96000\n",
      "Test accuracy: 0.94848\n",
      "Test F1 score: 0.76030\n",
      "Confusion Matrix (Test):\n",
      "[[2145810  104801]\n",
      " [  22755  202296]]\n"
     ]
    },
    {
     "name": "stderr",
     "output_type": "stream",
     "text": [
      "100%|██████████| 2475662/2475662 [12:24<00:00, 3324.67it/s]\n"
     ]
    },
    {
     "name": "stdout",
     "output_type": "stream",
     "text": [
      "Iteration #0 (200 samples)\n",
      "\n",
      "Train accuracy: 0.95000\n",
      "Test accuracy: 0.95396\n",
      "Test F1 score: 0.78369\n",
      "Confusion Matrix (Test):\n",
      "[[2155191   95420]\n",
      " [  18568  206483]]\n"
     ]
    },
    {
     "name": "stderr",
     "output_type": "stream",
     "text": [
      "100%|██████████| 2475662/2475662 [12:40<00:00, 3256.70it/s]\n"
     ]
    },
    {
     "name": "stdout",
     "output_type": "stream",
     "text": [
      "Iteration #1 (300 samples)\n",
      "\n",
      "Train accuracy: 0.98000\n",
      "Test accuracy: 0.96516\n",
      "Test F1 score: 0.83223\n",
      "Confusion Matrix (Test):\n",
      "[[2175452   75159]\n",
      " [  11103  213948]]\n"
     ]
    },
    {
     "name": "stderr",
     "output_type": "stream",
     "text": [
      "100%|██████████| 2475662/2475662 [12:44<00:00, 3239.85it/s]\n"
     ]
    },
    {
     "name": "stdout",
     "output_type": "stream",
     "text": [
      "Iteration #2 (400 samples)\n",
      "\n",
      "Train accuracy: 0.98500\n",
      "Test accuracy: 0.99021\n",
      "Test F1 score: 0.94669\n",
      "Confusion Matrix (Test):\n",
      "[[2236251   14360]\n",
      " [   9876  215175]]\n"
     ]
    },
    {
     "name": "stderr",
     "output_type": "stream",
     "text": [
      "100%|██████████| 2475662/2475662 [12:32<00:00, 3288.67it/s] \n"
     ]
    },
    {
     "name": "stdout",
     "output_type": "stream",
     "text": [
      "Iteration #3 (500 samples)\n",
      "\n",
      "Train accuracy: 1.00000\n",
      "Test accuracy: 0.99711\n",
      "Test F1 score: 0.98396\n",
      "Confusion Matrix (Test):\n",
      "[[2249020    1591]\n",
      " [   5567  219484]]\n"
     ]
    },
    {
     "name": "stderr",
     "output_type": "stream",
     "text": [
      "100%|██████████| 2475662/2475662 [18:24<00:00, 2241.46it/s] \n"
     ]
    },
    {
     "name": "stdout",
     "output_type": "stream",
     "text": [
      "Iteration #4 (600 samples)\n",
      "\n",
      "Train accuracy: 0.99333\n",
      "Test accuracy: 0.99744\n",
      "Test F1 score: 0.98579\n",
      "Confusion Matrix (Test):\n",
      "[[2249422    1189]\n",
      " [   5152  219899]]\n"
     ]
    }
   ],
   "source": [
    "from train import train\n",
    "\n",
    "_ = train(df, tokenizer_path=\"./numeric_tokenizer\", debug=True, num_queries_al=5)\n"
   ]
  },
  {
   "cell_type": "code",
   "execution_count": null,
   "id": "6c15fac9",
   "metadata": {},
   "outputs": [],
   "source": []
  }
 ],
 "metadata": {
  "kernelspec": {
   "display_name": ".venv (3.12.3)",
   "language": "python",
   "name": "python3"
  },
  "language_info": {
   "codemirror_mode": {
    "name": "ipython",
    "version": 3
   },
   "file_extension": ".py",
   "mimetype": "text/x-python",
   "name": "python",
   "nbconvert_exporter": "python",
   "pygments_lexer": "ipython3",
   "version": "3.12.3"
  }
 },
 "nbformat": 4,
 "nbformat_minor": 5
}
