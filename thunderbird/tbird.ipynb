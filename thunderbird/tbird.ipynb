{
 "cells": [
  {
   "cell_type": "code",
   "execution_count": 3,
   "id": "55ab36ed",
   "metadata": {},
   "outputs": [
    {
     "name": "stdout",
     "output_type": "stream",
     "text": [
      "Unique events: 760\n",
      "Unique machines: 4533\n"
     ]
    },
    {
     "data": {
      "text/html": [
       "<div>\n",
       "<style scoped>\n",
       "    .dataframe tbody tr th:only-of-type {\n",
       "        vertical-align: middle;\n",
       "    }\n",
       "\n",
       "    .dataframe tbody tr th {\n",
       "        vertical-align: top;\n",
       "    }\n",
       "\n",
       "    .dataframe thead th {\n",
       "        text-align: right;\n",
       "    }\n",
       "</style>\n",
       "<table border=\"1\" class=\"dataframe\">\n",
       "  <thead>\n",
       "    <tr style=\"text-align: right;\">\n",
       "      <th></th>\n",
       "      <th>event</th>\n",
       "      <th>machine</th>\n",
       "      <th>timestamp</th>\n",
       "      <th>label</th>\n",
       "    </tr>\n",
       "  </thead>\n",
       "  <tbody>\n",
       "    <tr>\n",
       "      <th>0</th>\n",
       "      <td>1</td>\n",
       "      <td>1</td>\n",
       "      <td>0</td>\n",
       "      <td>0</td>\n",
       "    </tr>\n",
       "    <tr>\n",
       "      <th>1</th>\n",
       "      <td>2</td>\n",
       "      <td>2</td>\n",
       "      <td>570</td>\n",
       "      <td>0</td>\n",
       "    </tr>\n",
       "    <tr>\n",
       "      <th>2</th>\n",
       "      <td>2</td>\n",
       "      <td>2</td>\n",
       "      <td>572</td>\n",
       "      <td>0</td>\n",
       "    </tr>\n",
       "    <tr>\n",
       "      <th>3</th>\n",
       "      <td>2</td>\n",
       "      <td>2</td>\n",
       "      <td>605</td>\n",
       "      <td>0</td>\n",
       "    </tr>\n",
       "    <tr>\n",
       "      <th>4</th>\n",
       "      <td>2</td>\n",
       "      <td>2</td>\n",
       "      <td>606</td>\n",
       "      <td>0</td>\n",
       "    </tr>\n",
       "    <tr>\n",
       "      <th>...</th>\n",
       "      <td>...</td>\n",
       "      <td>...</td>\n",
       "      <td>...</td>\n",
       "      <td>...</td>\n",
       "    </tr>\n",
       "    <tr>\n",
       "      <th>1999995</th>\n",
       "      <td>283</td>\n",
       "      <td>3458</td>\n",
       "      <td>234564</td>\n",
       "      <td>0</td>\n",
       "    </tr>\n",
       "    <tr>\n",
       "      <th>1999996</th>\n",
       "      <td>22</td>\n",
       "      <td>3458</td>\n",
       "      <td>234564</td>\n",
       "      <td>0</td>\n",
       "    </tr>\n",
       "    <tr>\n",
       "      <th>1999997</th>\n",
       "      <td>22</td>\n",
       "      <td>3535</td>\n",
       "      <td>234564</td>\n",
       "      <td>0</td>\n",
       "    </tr>\n",
       "    <tr>\n",
       "      <th>1999998</th>\n",
       "      <td>22</td>\n",
       "      <td>3480</td>\n",
       "      <td>234564</td>\n",
       "      <td>0</td>\n",
       "    </tr>\n",
       "    <tr>\n",
       "      <th>1999999</th>\n",
       "      <td>280</td>\n",
       "      <td>3733</td>\n",
       "      <td>234564</td>\n",
       "      <td>0</td>\n",
       "    </tr>\n",
       "  </tbody>\n",
       "</table>\n",
       "<p>2000000 rows × 4 columns</p>\n",
       "</div>"
      ],
      "text/plain": [
       "         event  machine  timestamp  label\n",
       "0            1        1          0      0\n",
       "1            2        2        570      0\n",
       "2            2        2        572      0\n",
       "3            2        2        605      0\n",
       "4            2        2        606      0\n",
       "...        ...      ...        ...    ...\n",
       "1999995    283     3458     234564      0\n",
       "1999996     22     3458     234564      0\n",
       "1999997     22     3535     234564      0\n",
       "1999998     22     3480     234564      0\n",
       "1999999    280     3733     234564      0\n",
       "\n",
       "[2000000 rows x 4 columns]"
      ]
     },
     "execution_count": 3,
     "metadata": {},
     "output_type": "execute_result"
    }
   ],
   "source": [
    "import pandas as pd\n",
    "import numpy as np\n",
    "df = pd.read_csv(\"tbird.log_structured.csv\", nrows=2_000_000)\n",
    "df.drop(columns=['LineId', 'Date', 'Admin', 'Month', 'Day', 'Time', 'EventTemplate', 'Content'], inplace=True)\n",
    "unique_events = df['EventId'].unique()\n",
    "print(f\"Unique events: {len(unique_events)}\")\n",
    "events_map = {event: idx + 1 for idx, event in enumerate(unique_events)}\n",
    "df['event'] = df['EventId'].map(events_map)\n",
    "unique_machines = df['AdminAddr'].unique()\n",
    "print(f\"Unique machines: {len(unique_machines)}\")\n",
    "machines_map = {mac: idx + 1 for idx, mac in enumerate(unique_machines)}\n",
    "df['machine'] = df['AdminAddr'].map(machines_map)\n",
    "\n",
    "df['timestamp'] = df['Id'].astype(int)\n",
    "df.sort_values(by=['timestamp'], inplace=True)\n",
    "min_timestamp = df['timestamp'].min()\n",
    "df['timestamp'] = df['timestamp'] - min_timestamp\n",
    "\n",
    "df['label'] = np.where(\n",
    "    df['Label'] == '-',  # if alert_flag is '-', it's not an alert\n",
    "    0,  # not an alert\n",
    "    1   # is an alert\n",
    ")\n",
    "df.drop(columns=['Id', 'Label', 'AdminAddr', 'EventId'], inplace=True)\n",
    "df"
   ]
  },
  {
   "cell_type": "code",
   "execution_count": 4,
   "id": "79026f63",
   "metadata": {},
   "outputs": [
    {
     "name": "stdout",
     "output_type": "stream",
     "text": [
      "Created 760 priority tokens\n",
      "\n",
      "\n",
      "\n"
     ]
    }
   ],
   "source": [
    "import sys\n",
    "import os\n",
    "sys.path.append(os.path.abspath(\"..\"))\n",
    "\n",
    "from tokenizer import tokenize\n",
    "\n",
    "tokenize(df, save_path=\"./numeric_tokenizer\")"
   ]
  },
  {
   "cell_type": "code",
   "execution_count": 6,
   "id": "444b63a8",
   "metadata": {},
   "outputs": [
    {
     "name": "stdout",
     "output_type": "stream",
     "text": [
      "Using device: cuda\n",
      "Starting training...\n",
      "==================================================\n",
      "\n",
      "Epoch 1/10\n",
      "------------------------------\n"
     ]
    },
    {
     "name": "stderr",
     "output_type": "stream",
     "text": [
      "Training: 100%|██████████| 4/4 [00:00<00:00, 24.88it/s, loss=0.7053, acc=0.5000, lr=2.00e-05]\n"
     ]
    },
    {
     "name": "stdout",
     "output_type": "stream",
     "text": [
      "\n",
      "Epoch 1 Summary:\n",
      "Train Loss: 0.6906, Train Acc: 0.5625\n",
      "Learning Rate: 2.00e-05\n",
      "\n",
      "Epoch 2/10\n",
      "------------------------------\n"
     ]
    },
    {
     "name": "stderr",
     "output_type": "stream",
     "text": [
      "Training: 100%|██████████| 4/4 [00:00<00:00, 16.93it/s, loss=0.6260, acc=0.7500, lr=1.78e-05]\n"
     ]
    },
    {
     "name": "stdout",
     "output_type": "stream",
     "text": [
      "\n",
      "Epoch 2 Summary:\n",
      "Train Loss: 0.6473, Train Acc: 0.6367\n",
      "Learning Rate: 1.78e-05\n",
      "\n",
      "Epoch 3/10\n",
      "------------------------------\n"
     ]
    },
    {
     "name": "stderr",
     "output_type": "stream",
     "text": [
      "Training: 100%|██████████| 4/4 [00:00<00:00, 20.69it/s, loss=0.6036, acc=1.0000, lr=1.56e-05]\n"
     ]
    },
    {
     "name": "stdout",
     "output_type": "stream",
     "text": [
      "\n",
      "Epoch 3 Summary:\n",
      "Train Loss: 0.5955, Train Acc: 0.8242\n",
      "Learning Rate: 1.56e-05\n",
      "\n",
      "Epoch 4/10\n",
      "------------------------------\n"
     ]
    },
    {
     "name": "stderr",
     "output_type": "stream",
     "text": [
      "Training: 100%|██████████| 4/4 [00:00<00:00, 22.23it/s, loss=0.5508, acc=0.7500, lr=1.33e-05]\n"
     ]
    },
    {
     "name": "stdout",
     "output_type": "stream",
     "text": [
      "\n",
      "Epoch 4 Summary:\n",
      "Train Loss: 0.5469, Train Acc: 0.8125\n",
      "Learning Rate: 1.33e-05\n",
      "\n",
      "Epoch 5/10\n",
      "------------------------------\n"
     ]
    },
    {
     "name": "stderr",
     "output_type": "stream",
     "text": [
      "Training: 100%|██████████| 4/4 [00:00<00:00, 20.26it/s, loss=0.5153, acc=0.5000, lr=1.11e-05]\n"
     ]
    },
    {
     "name": "stdout",
     "output_type": "stream",
     "text": [
      "\n",
      "Epoch 5 Summary:\n",
      "Train Loss: 0.5132, Train Acc: 0.7578\n",
      "Learning Rate: 1.11e-05\n",
      "\n",
      "Epoch 6/10\n",
      "------------------------------\n"
     ]
    },
    {
     "name": "stderr",
     "output_type": "stream",
     "text": [
      "Training: 100%|██████████| 4/4 [00:00<00:00, 19.45it/s, loss=0.4211, acc=1.0000, lr=8.89e-06]\n"
     ]
    },
    {
     "name": "stdout",
     "output_type": "stream",
     "text": [
      "\n",
      "Epoch 6 Summary:\n",
      "Train Loss: 0.4694, Train Acc: 0.9141\n",
      "Learning Rate: 8.89e-06\n",
      "\n",
      "Epoch 7/10\n",
      "------------------------------\n"
     ]
    },
    {
     "name": "stderr",
     "output_type": "stream",
     "text": [
      "Training: 100%|██████████| 4/4 [00:00<00:00, 18.88it/s, loss=0.3698, acc=1.0000, lr=6.67e-06]\n"
     ]
    },
    {
     "name": "stdout",
     "output_type": "stream",
     "text": [
      "\n",
      "Epoch 7 Summary:\n",
      "Train Loss: 0.4310, Train Acc: 0.9414\n",
      "Learning Rate: 6.67e-06\n",
      "\n",
      "Epoch 8/10\n",
      "------------------------------\n"
     ]
    },
    {
     "name": "stderr",
     "output_type": "stream",
     "text": [
      "Training: 100%|██████████| 4/4 [00:00<00:00, 21.54it/s, loss=0.4771, acc=0.8750, lr=4.44e-06]\n"
     ]
    },
    {
     "name": "stdout",
     "output_type": "stream",
     "text": [
      "\n",
      "Epoch 8 Summary:\n",
      "Train Loss: 0.4510, Train Acc: 0.9023\n",
      "Learning Rate: 4.44e-06\n",
      "\n",
      "Epoch 9/10\n",
      "------------------------------\n"
     ]
    },
    {
     "name": "stderr",
     "output_type": "stream",
     "text": [
      "Training: 100%|██████████| 4/4 [00:00<00:00, 21.31it/s, loss=0.4979, acc=0.8750, lr=2.22e-06]\n"
     ]
    },
    {
     "name": "stdout",
     "output_type": "stream",
     "text": [
      "\n",
      "Epoch 9 Summary:\n",
      "Train Loss: 0.4339, Train Acc: 0.9023\n",
      "Learning Rate: 2.22e-06\n",
      "\n",
      "Epoch 10/10\n",
      "------------------------------\n"
     ]
    },
    {
     "name": "stderr",
     "output_type": "stream",
     "text": [
      "Training: 100%|██████████| 4/4 [00:00<00:00, 22.20it/s, loss=0.4810, acc=0.7500, lr=0.00e+00]\n"
     ]
    },
    {
     "name": "stdout",
     "output_type": "stream",
     "text": [
      "\n",
      "Epoch 10 Summary:\n",
      "Train Loss: 0.4301, Train Acc: 0.8672\n",
      "Learning Rate: 0.00e+00\n",
      "\n",
      "==================================================\n",
      "Training completed!\n",
      "Best training accuracy: 0.9414\n"
     ]
    },
    {
     "name": "stderr",
     "output_type": "stream",
     "text": [
      "/home/rm521/.venv/lib/python3.12/site-packages/small_text/utils/annotations.py:67: ExperimentalWarning: The function from_arrays is experimental and maybe subject to change soon.\n",
      "  warnings.warn(f'The {subject} {func_or_class.__name__} is experimental '\n"
     ]
    },
    {
     "name": "stdout",
     "output_type": "stream",
     "text": [
      "Train accuracy: 0.99800\n",
      "Test accuracy: 0.99989\n",
      "Test F1 score: 0.99600\n",
      "Confusion Matrix (Test):\n",
      "[[1277745      20]\n",
      " [    125   18074]]\n"
     ]
    },
    {
     "name": "stderr",
     "output_type": "stream",
     "text": [
      "100%|██████████| 1295764/1295764 [10:16<00:00, 2102.07it/s]\n"
     ]
    },
    {
     "name": "stdout",
     "output_type": "stream",
     "text": [
      "Train accuracy: 0.99833\n",
      "Test accuracy: 0.99963\n",
      "Test F1 score: 0.98693\n",
      "Confusion Matrix (Test):\n",
      "[[1277402     363]\n",
      " [    116   18083]]\n"
     ]
    },
    {
     "name": "stderr",
     "output_type": "stream",
     "text": [
      "100%|██████████| 1295764/1295764 [08:46<00:00, 2458.90it/s]\n"
     ]
    },
    {
     "name": "stdout",
     "output_type": "stream",
     "text": [
      "Train accuracy: 0.99857\n",
      "Test accuracy: 0.99980\n",
      "Test F1 score: 0.99297\n",
      "Confusion Matrix (Test):\n",
      "[[1277627     138]\n",
      " [    118   18081]]\n"
     ]
    },
    {
     "name": "stderr",
     "output_type": "stream",
     "text": [
      "100%|██████████| 1295764/1295764 [09:50<00:00, 2195.14it/s]\n"
     ]
    },
    {
     "name": "stdout",
     "output_type": "stream",
     "text": [
      "Train accuracy: 0.99875\n",
      "Test accuracy: 0.99985\n",
      "Test F1 score: 0.99456\n",
      "Confusion Matrix (Test):\n",
      "[[1277682      83]\n",
      " [    115   18084]]\n"
     ]
    },
    {
     "name": "stderr",
     "output_type": "stream",
     "text": [
      "100%|██████████| 1295764/1295764 [08:59<00:00, 2403.08it/s]\n"
     ]
    },
    {
     "name": "stdout",
     "output_type": "stream",
     "text": [
      "Train accuracy: 0.99889\n",
      "Test accuracy: 0.99988\n",
      "Test F1 score: 0.99576\n",
      "Confusion Matrix (Test):\n",
      "[[1277733      32]\n",
      " [    122   18077]]\n"
     ]
    },
    {
     "name": "stderr",
     "output_type": "stream",
     "text": [
      "100%|██████████| 1295764/1295764 [06:07<00:00, 3524.07it/s]\n"
     ]
    },
    {
     "name": "stdout",
     "output_type": "stream",
     "text": [
      "Train accuracy: 0.99900\n",
      "Test accuracy: 0.99988\n",
      "Test F1 score: 0.99562\n",
      "Confusion Matrix (Test):\n",
      "[[1277723      42]\n",
      " [    117   18082]]\n"
     ]
    }
   ],
   "source": [
    "from train import train\n",
    "\n",
    "_ = train(df, tokenizer_path=\"./numeric_tokenizer\", debug=True, num_queries_al=5)\n"
   ]
  },
  {
   "cell_type": "code",
   "execution_count": null,
   "id": "de635834",
   "metadata": {},
   "outputs": [],
   "source": []
  }
 ],
 "metadata": {
  "kernelspec": {
   "display_name": ".venv (3.12.3)",
   "language": "python",
   "name": "python3"
  },
  "language_info": {
   "codemirror_mode": {
    "name": "ipython",
    "version": 3
   },
   "file_extension": ".py",
   "mimetype": "text/x-python",
   "name": "python",
   "nbconvert_exporter": "python",
   "pygments_lexer": "ipython3",
   "version": "3.12.3"
  }
 },
 "nbformat": 4,
 "nbformat_minor": 5
}
