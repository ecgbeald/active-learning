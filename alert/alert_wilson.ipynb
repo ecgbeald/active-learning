{
 "cells": [
  {
   "cell_type": "code",
   "execution_count": 1,
   "id": "30aaa0df",
   "metadata": {},
   "outputs": [
    {
     "data": {
      "text/html": [
       "<div>\n",
       "<style scoped>\n",
       "    .dataframe tbody tr th:only-of-type {\n",
       "        vertical-align: middle;\n",
       "    }\n",
       "\n",
       "    .dataframe tbody tr th {\n",
       "        vertical-align: top;\n",
       "    }\n",
       "\n",
       "    .dataframe thead th {\n",
       "        text-align: right;\n",
       "    }\n",
       "</style>\n",
       "<table border=\"1\" class=\"dataframe\">\n",
       "  <thead>\n",
       "    <tr style=\"text-align: right;\">\n",
       "      <th></th>\n",
       "      <th>time</th>\n",
       "      <th>name</th>\n",
       "      <th>ip</th>\n",
       "      <th>host</th>\n",
       "      <th>short</th>\n",
       "      <th>time_label</th>\n",
       "      <th>event_label</th>\n",
       "    </tr>\n",
       "  </thead>\n",
       "  <tbody>\n",
       "    <tr>\n",
       "      <th>0</th>\n",
       "      <td>1643849106</td>\n",
       "      <td>Wazuh: ClamAV database update</td>\n",
       "      <td>10.182.193.181</td>\n",
       "      <td>mail</td>\n",
       "      <td>W-Sys-Cav</td>\n",
       "      <td>false_positive</td>\n",
       "      <td>-</td>\n",
       "    </tr>\n",
       "    <tr>\n",
       "      <th>1</th>\n",
       "      <td>1643849111</td>\n",
       "      <td>Wazuh: ClamAV database update</td>\n",
       "      <td>10.182.193.181</td>\n",
       "      <td>mail</td>\n",
       "      <td>W-Sys-Cav</td>\n",
       "      <td>false_positive</td>\n",
       "      <td>-</td>\n",
       "    </tr>\n",
       "    <tr>\n",
       "      <th>2</th>\n",
       "      <td>1643849116</td>\n",
       "      <td>Wazuh: ClamAV database update</td>\n",
       "      <td>10.182.193.181</td>\n",
       "      <td>mail</td>\n",
       "      <td>W-Sys-Cav</td>\n",
       "      <td>false_positive</td>\n",
       "      <td>-</td>\n",
       "    </tr>\n",
       "    <tr>\n",
       "      <th>3</th>\n",
       "      <td>1643849121</td>\n",
       "      <td>Wazuh: ClamAV database update</td>\n",
       "      <td>10.182.193.181</td>\n",
       "      <td>mail</td>\n",
       "      <td>W-Sys-Cav</td>\n",
       "      <td>false_positive</td>\n",
       "      <td>-</td>\n",
       "    </tr>\n",
       "    <tr>\n",
       "      <th>4</th>\n",
       "      <td>1643849126</td>\n",
       "      <td>Wazuh: ClamAV database update</td>\n",
       "      <td>10.182.193.181</td>\n",
       "      <td>mail</td>\n",
       "      <td>W-Sys-Cav</td>\n",
       "      <td>false_positive</td>\n",
       "      <td>-</td>\n",
       "    </tr>\n",
       "    <tr>\n",
       "      <th>...</th>\n",
       "      <td>...</td>\n",
       "      <td>...</td>\n",
       "      <td>...</td>\n",
       "      <td>...</td>\n",
       "      <td>...</td>\n",
       "      <td>...</td>\n",
       "      <td>...</td>\n",
       "    </tr>\n",
       "    <tr>\n",
       "      <th>634241</th>\n",
       "      <td>1644361970</td>\n",
       "      <td>AMiner: Unusual occurrence frequencies of DNS ...</td>\n",
       "      <td>192.168.239.254</td>\n",
       "      <td>inet-dns</td>\n",
       "      <td>A-Dns-Clc1</td>\n",
       "      <td>false_positive</td>\n",
       "      <td>-</td>\n",
       "    </tr>\n",
       "    <tr>\n",
       "      <th>634242</th>\n",
       "      <td>1644362732</td>\n",
       "      <td>AMiner: Unusual occurrence frequencies of DNS ...</td>\n",
       "      <td>192.168.239.254</td>\n",
       "      <td>inet-dns</td>\n",
       "      <td>A-Dns-Clc1</td>\n",
       "      <td>false_positive</td>\n",
       "      <td>-</td>\n",
       "    </tr>\n",
       "    <tr>\n",
       "      <th>634243</th>\n",
       "      <td>1644363098</td>\n",
       "      <td>AMiner: Unusual occurrence frequencies of DNS ...</td>\n",
       "      <td>192.168.239.254</td>\n",
       "      <td>inet-dns</td>\n",
       "      <td>A-Dns-Clc1</td>\n",
       "      <td>false_positive</td>\n",
       "      <td>-</td>\n",
       "    </tr>\n",
       "    <tr>\n",
       "      <th>634244</th>\n",
       "      <td>1644363883</td>\n",
       "      <td>AMiner: Unusual occurrence frequencies of DNS ...</td>\n",
       "      <td>192.168.239.254</td>\n",
       "      <td>inet-dns</td>\n",
       "      <td>A-Dns-Clc1</td>\n",
       "      <td>false_positive</td>\n",
       "      <td>-</td>\n",
       "    </tr>\n",
       "    <tr>\n",
       "      <th>634245</th>\n",
       "      <td>1644364214</td>\n",
       "      <td>AMiner: Unusual occurrence frequencies of DNS ...</td>\n",
       "      <td>192.168.239.254</td>\n",
       "      <td>inet-dns</td>\n",
       "      <td>A-Dns-Clc1</td>\n",
       "      <td>false_positive</td>\n",
       "      <td>-</td>\n",
       "    </tr>\n",
       "  </tbody>\n",
       "</table>\n",
       "<p>634246 rows × 7 columns</p>\n",
       "</div>"
      ],
      "text/plain": [
       "              time                                               name  \\\n",
       "0       1643849106                      Wazuh: ClamAV database update   \n",
       "1       1643849111                      Wazuh: ClamAV database update   \n",
       "2       1643849116                      Wazuh: ClamAV database update   \n",
       "3       1643849121                      Wazuh: ClamAV database update   \n",
       "4       1643849126                      Wazuh: ClamAV database update   \n",
       "...            ...                                                ...   \n",
       "634241  1644361970  AMiner: Unusual occurrence frequencies of DNS ...   \n",
       "634242  1644362732  AMiner: Unusual occurrence frequencies of DNS ...   \n",
       "634243  1644363098  AMiner: Unusual occurrence frequencies of DNS ...   \n",
       "634244  1644363883  AMiner: Unusual occurrence frequencies of DNS ...   \n",
       "634245  1644364214  AMiner: Unusual occurrence frequencies of DNS ...   \n",
       "\n",
       "                     ip      host       short      time_label event_label  \n",
       "0        10.182.193.181      mail   W-Sys-Cav  false_positive           -  \n",
       "1        10.182.193.181      mail   W-Sys-Cav  false_positive           -  \n",
       "2        10.182.193.181      mail   W-Sys-Cav  false_positive           -  \n",
       "3        10.182.193.181      mail   W-Sys-Cav  false_positive           -  \n",
       "4        10.182.193.181      mail   W-Sys-Cav  false_positive           -  \n",
       "...                 ...       ...         ...             ...         ...  \n",
       "634241  192.168.239.254  inet-dns  A-Dns-Clc1  false_positive           -  \n",
       "634242  192.168.239.254  inet-dns  A-Dns-Clc1  false_positive           -  \n",
       "634243  192.168.239.254  inet-dns  A-Dns-Clc1  false_positive           -  \n",
       "634244  192.168.239.254  inet-dns  A-Dns-Clc1  false_positive           -  \n",
       "634245  192.168.239.254  inet-dns  A-Dns-Clc1  false_positive           -  \n",
       "\n",
       "[634246 rows x 7 columns]"
      ]
     },
     "execution_count": 1,
     "metadata": {},
     "output_type": "execute_result"
    }
   ],
   "source": [
    "import pandas as pd\n",
    "import os\n",
    "import sys\n",
    "\n",
    "sys.path.append(os.path.abspath(\"..\"))\n",
    "df = pd.read_csv(\"wilson_alerts.csv\")\n",
    "df"
   ]
  },
  {
   "cell_type": "code",
   "execution_count": 2,
   "id": "11a1d9f5",
   "metadata": {},
   "outputs": [
    {
     "data": {
      "text/html": [
       "<div>\n",
       "<style scoped>\n",
       "    .dataframe tbody tr th:only-of-type {\n",
       "        vertical-align: middle;\n",
       "    }\n",
       "\n",
       "    .dataframe tbody tr th {\n",
       "        vertical-align: top;\n",
       "    }\n",
       "\n",
       "    .dataframe thead th {\n",
       "        text-align: right;\n",
       "    }\n",
       "</style>\n",
       "<table border=\"1\" class=\"dataframe\">\n",
       "  <thead>\n",
       "    <tr style=\"text-align: right;\">\n",
       "      <th></th>\n",
       "      <th>timestamp</th>\n",
       "      <th>event</th>\n",
       "      <th>machine</th>\n",
       "      <th>label</th>\n",
       "    </tr>\n",
       "  </thead>\n",
       "  <tbody>\n",
       "    <tr>\n",
       "      <th>0</th>\n",
       "      <td>0</td>\n",
       "      <td>53</td>\n",
       "      <td>9</td>\n",
       "      <td>0</td>\n",
       "    </tr>\n",
       "    <tr>\n",
       "      <th>1</th>\n",
       "      <td>0</td>\n",
       "      <td>63</td>\n",
       "      <td>9</td>\n",
       "      <td>0</td>\n",
       "    </tr>\n",
       "    <tr>\n",
       "      <th>2</th>\n",
       "      <td>0</td>\n",
       "      <td>65</td>\n",
       "      <td>9</td>\n",
       "      <td>0</td>\n",
       "    </tr>\n",
       "    <tr>\n",
       "      <th>3</th>\n",
       "      <td>0</td>\n",
       "      <td>66</td>\n",
       "      <td>9</td>\n",
       "      <td>0</td>\n",
       "    </tr>\n",
       "    <tr>\n",
       "      <th>4</th>\n",
       "      <td>0</td>\n",
       "      <td>62</td>\n",
       "      <td>9</td>\n",
       "      <td>0</td>\n",
       "    </tr>\n",
       "    <tr>\n",
       "      <th>...</th>\n",
       "      <td>...</td>\n",
       "      <td>...</td>\n",
       "      <td>...</td>\n",
       "      <td>...</td>\n",
       "    </tr>\n",
       "    <tr>\n",
       "      <th>634241</th>\n",
       "      <td>517631</td>\n",
       "      <td>1</td>\n",
       "      <td>1</td>\n",
       "      <td>0</td>\n",
       "    </tr>\n",
       "    <tr>\n",
       "      <th>634242</th>\n",
       "      <td>517636</td>\n",
       "      <td>1</td>\n",
       "      <td>1</td>\n",
       "      <td>0</td>\n",
       "    </tr>\n",
       "    <tr>\n",
       "      <th>634243</th>\n",
       "      <td>517641</td>\n",
       "      <td>1</td>\n",
       "      <td>1</td>\n",
       "      <td>0</td>\n",
       "    </tr>\n",
       "    <tr>\n",
       "      <th>634244</th>\n",
       "      <td>517641</td>\n",
       "      <td>1</td>\n",
       "      <td>1</td>\n",
       "      <td>0</td>\n",
       "    </tr>\n",
       "    <tr>\n",
       "      <th>634245</th>\n",
       "      <td>517813</td>\n",
       "      <td>78</td>\n",
       "      <td>10</td>\n",
       "      <td>0</td>\n",
       "    </tr>\n",
       "  </tbody>\n",
       "</table>\n",
       "<p>634246 rows × 4 columns</p>\n",
       "</div>"
      ],
      "text/plain": [
       "        timestamp  event  machine  label\n",
       "0               0     53        9      0\n",
       "1               0     63        9      0\n",
       "2               0     65        9      0\n",
       "3               0     66        9      0\n",
       "4               0     62        9      0\n",
       "...           ...    ...      ...    ...\n",
       "634241     517631      1        1      0\n",
       "634242     517636      1        1      0\n",
       "634243     517641      1        1      0\n",
       "634244     517641      1        1      0\n",
       "634245     517813     78       10      0\n",
       "\n",
       "[634246 rows x 4 columns]"
      ]
     },
     "execution_count": 2,
     "metadata": {},
     "output_type": "execute_result"
    }
   ],
   "source": [
    "df.rename(columns={\n",
    "    'time': 'timestamp',\n",
    "    'name': 'event',\n",
    "    'host': 'machine',\n",
    "}, inplace=True)\n",
    "\n",
    "unique_events = df['event'].unique()\n",
    "event_map = {evt: idx + 1 for idx, evt in enumerate(unique_events)}\n",
    "df['event'] = df['event'].map(event_map)\n",
    "unique_machines = df['machine'].unique()\n",
    "machines_map = {mac: idx + 1 for idx, mac in enumerate(unique_machines)}\n",
    "df['machine'] = df['machine'].map(machines_map)\n",
    "# Create binary label column (0=normal, 1=anomalous)\n",
    "df['label'] = df['event_label'].apply(lambda x: 0 if x == '-' else 1)\n",
    "\n",
    "df.drop(columns=['event_label', 'time_label', 'short', 'ip'], inplace=True)\n",
    "\n",
    "df.sort_values(by=['timestamp'], inplace=True)\n",
    "min_timestamp = df['timestamp'].min()\n",
    "df['timestamp'] = df['timestamp'] - min_timestamp\n",
    "df.reset_index(drop=True, inplace=True)\n",
    "df"
   ]
  },
  {
   "cell_type": "code",
   "execution_count": 3,
   "id": "91601f14",
   "metadata": {},
   "outputs": [
    {
     "name": "stdout",
     "output_type": "stream",
     "text": [
      "Created 86 priority tokens\n",
      "\n",
      "\n",
      "\n"
     ]
    }
   ],
   "source": [
    "from tokenizer import tokenize\n",
    "\n",
    "tokenize(df, save_path=\"./numeric_tokenizer\")"
   ]
  },
  {
   "cell_type": "code",
   "execution_count": 4,
   "id": "b18fe4c1",
   "metadata": {},
   "outputs": [
    {
     "name": "stdout",
     "output_type": "stream",
     "text": [
      "Using device: cuda\n",
      "\n",
      "Epoch 1/2\n"
     ]
    },
    {
     "name": "stderr",
     "output_type": "stream",
     "text": [
      "MLM Training: 100%|██████████| 2494/2494 [05:54<00:00,  7.04it/s, loss=1.1242, acc=0.7667, lr=2.50e-05]\n"
     ]
    },
    {
     "name": "stdout",
     "output_type": "stream",
     "text": [
      "Train Loss: 1.3446, Train Acc: 0.6466\n",
      "\n",
      "Epoch 2/2\n"
     ]
    },
    {
     "name": "stderr",
     "output_type": "stream",
     "text": [
      "MLM Training: 100%|██████████| 2494/2494 [05:49<00:00,  7.13it/s, loss=1.3360, acc=0.5862, lr=0.00e+00]\n"
     ]
    },
    {
     "name": "stdout",
     "output_type": "stream",
     "text": [
      "Train Loss: 1.1677, Train Acc: 0.6589\n",
      "Best loss: 1.1677\n",
      "loaded 39 tensors\n",
      "Model saved to ./pretrained_classifier\n"
     ]
    },
    {
     "name": "stderr",
     "output_type": "stream",
     "text": [
      "/home/rm521/.venv/lib/python3.12/site-packages/small_text/utils/annotations.py:67: ExperimentalWarning: The function from_arrays is experimental and maybe subject to change soon.\n",
      "  warnings.warn(f'The {subject} {func_or_class.__name__} is experimental '\n"
     ]
    },
    {
     "name": "stdout",
     "output_type": "stream",
     "text": [
      "Train accuracy: 1.00000\n",
      "Test accuracy: 0.99929\n",
      "Test F1 score: 0.99948\n",
      "Confusion Matrix (Test):\n",
      "[[203004    426]\n",
      " [    25 434777]]\n"
     ]
    },
    {
     "name": "stderr",
     "output_type": "stream",
     "text": [
      "100%|██████████| 638232/638232 [02:06<00:00, 5050.55it/s]\n"
     ]
    },
    {
     "name": "stdout",
     "output_type": "stream",
     "text": [
      "Iteration #0 (200 samples)\n",
      "\n",
      "Train accuracy: 1.00000\n",
      "Test accuracy: 0.99730\n",
      "Test F1 score: 0.99802\n",
      "Confusion Matrix (Test):\n",
      "[[201717   1713]\n",
      " [     9 434793]]\n"
     ]
    },
    {
     "name": "stderr",
     "output_type": "stream",
     "text": [
      "100%|██████████| 638232/638232 [04:21<00:00, 2439.21it/s]\n"
     ]
    },
    {
     "name": "stdout",
     "output_type": "stream",
     "text": [
      "Iteration #1 (300 samples)\n",
      "\n",
      "Train accuracy: 1.00000\n",
      "Test accuracy: 0.99915\n",
      "Test F1 score: 0.99938\n",
      "Confusion Matrix (Test):\n",
      "[[202916    514]\n",
      " [    27 434775]]\n"
     ]
    },
    {
     "name": "stderr",
     "output_type": "stream",
     "text": [
      "100%|██████████| 638232/638232 [02:08<00:00, 4972.43it/s]\n"
     ]
    },
    {
     "name": "stdout",
     "output_type": "stream",
     "text": [
      "Iteration #2 (400 samples)\n",
      "\n",
      "Train accuracy: 1.00000\n",
      "Test accuracy: 0.99904\n",
      "Test F1 score: 0.99929\n",
      "Confusion Matrix (Test):\n",
      "[[202836    594]\n",
      " [    21 434781]]\n"
     ]
    }
   ],
   "source": [
    "from train import train\n",
    "\n",
    "_ = train(df, pre_processed=False, tokenizer_path=\"./numeric_tokenizer\", num_queries_al=3)"
   ]
  }
 ],
 "metadata": {
  "kernelspec": {
   "display_name": ".venv (3.12.3)",
   "language": "python",
   "name": "python3"
  },
  "language_info": {
   "codemirror_mode": {
    "name": "ipython",
    "version": 3
   },
   "file_extension": ".py",
   "mimetype": "text/x-python",
   "name": "python",
   "nbconvert_exporter": "python",
   "pygments_lexer": "ipython3",
   "version": "3.12.3"
  }
 },
 "nbformat": 4,
 "nbformat_minor": 5
}
