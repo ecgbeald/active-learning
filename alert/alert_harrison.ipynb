{
 "cells": [
  {
   "cell_type": "code",
   "execution_count": 1,
   "id": "2136ec35",
   "metadata": {},
   "outputs": [
    {
     "data": {
      "text/html": [
       "<div>\n",
       "<style scoped>\n",
       "    .dataframe tbody tr th:only-of-type {\n",
       "        vertical-align: middle;\n",
       "    }\n",
       "\n",
       "    .dataframe tbody tr th {\n",
       "        vertical-align: top;\n",
       "    }\n",
       "\n",
       "    .dataframe thead th {\n",
       "        text-align: right;\n",
       "    }\n",
       "</style>\n",
       "<table border=\"1\" class=\"dataframe\">\n",
       "  <thead>\n",
       "    <tr style=\"text-align: right;\">\n",
       "      <th></th>\n",
       "      <th>time</th>\n",
       "      <th>name</th>\n",
       "      <th>ip</th>\n",
       "      <th>host</th>\n",
       "      <th>short</th>\n",
       "      <th>time_label</th>\n",
       "      <th>event_label</th>\n",
       "    </tr>\n",
       "  </thead>\n",
       "  <tbody>\n",
       "    <tr>\n",
       "      <th>0</th>\n",
       "      <td>1643932807</td>\n",
       "      <td>Suricata: Alert - ET INFO Observed DNS Query t...</td>\n",
       "      <td>192.168.131.109</td>\n",
       "      <td>internal_share</td>\n",
       "      <td>S-Dns-Qry3</td>\n",
       "      <td>false_positive</td>\n",
       "      <td>dnsteal</td>\n",
       "    </tr>\n",
       "    <tr>\n",
       "      <th>1</th>\n",
       "      <td>1643932807</td>\n",
       "      <td>Wazuh: First time this IDS alert is generated.</td>\n",
       "      <td>192.168.131.109</td>\n",
       "      <td>internal_share</td>\n",
       "      <td>W-All-Ids</td>\n",
       "      <td>false_positive</td>\n",
       "      <td>-</td>\n",
       "    </tr>\n",
       "    <tr>\n",
       "      <th>2</th>\n",
       "      <td>1643932807</td>\n",
       "      <td>Wazuh: First time this IDS alert is generated.</td>\n",
       "      <td>192.168.128.1</td>\n",
       "      <td>inet-firewall</td>\n",
       "      <td>W-All-Ids</td>\n",
       "      <td>false_positive</td>\n",
       "      <td>-</td>\n",
       "    </tr>\n",
       "    <tr>\n",
       "      <th>3</th>\n",
       "      <td>1643932807</td>\n",
       "      <td>Suricata: Alert - ET INFO Observed DNS Query t...</td>\n",
       "      <td>192.168.128.1</td>\n",
       "      <td>inet-firewall</td>\n",
       "      <td>S-Dns-Qry3</td>\n",
       "      <td>false_positive</td>\n",
       "      <td>dnsteal</td>\n",
       "    </tr>\n",
       "    <tr>\n",
       "      <th>4</th>\n",
       "      <td>1643932819</td>\n",
       "      <td>Suricata: Alert - ET INFO Observed DNS Query t...</td>\n",
       "      <td>192.168.131.109</td>\n",
       "      <td>internal_share</td>\n",
       "      <td>S-Dns-Qry3</td>\n",
       "      <td>false_positive</td>\n",
       "      <td>dnsteal</td>\n",
       "    </tr>\n",
       "    <tr>\n",
       "      <th>...</th>\n",
       "      <td>...</td>\n",
       "      <td>...</td>\n",
       "      <td>...</td>\n",
       "      <td>...</td>\n",
       "      <td>...</td>\n",
       "      <td>...</td>\n",
       "      <td>...</td>\n",
       "    </tr>\n",
       "    <tr>\n",
       "      <th>593943</th>\n",
       "      <td>1644362611</td>\n",
       "      <td>AMiner: Unusual occurrence frequencies of DNS ...</td>\n",
       "      <td>172.28.255.254</td>\n",
       "      <td>inet-dns</td>\n",
       "      <td>A-Dns-Clc1</td>\n",
       "      <td>false_positive</td>\n",
       "      <td>-</td>\n",
       "    </tr>\n",
       "    <tr>\n",
       "      <th>593944</th>\n",
       "      <td>1644363011</td>\n",
       "      <td>AMiner: Unusual occurrence frequencies of DNS ...</td>\n",
       "      <td>192.168.128.1</td>\n",
       "      <td>inet-firewall</td>\n",
       "      <td>A-Dns-Clc1</td>\n",
       "      <td>false_positive</td>\n",
       "      <td>-</td>\n",
       "    </tr>\n",
       "    <tr>\n",
       "      <th>593945</th>\n",
       "      <td>1644364024</td>\n",
       "      <td>AMiner: Unusual occurrence frequencies of DNS ...</td>\n",
       "      <td>172.28.255.254</td>\n",
       "      <td>inet-dns</td>\n",
       "      <td>A-Dns-Clc1</td>\n",
       "      <td>false_positive</td>\n",
       "      <td>-</td>\n",
       "    </tr>\n",
       "    <tr>\n",
       "      <th>593946</th>\n",
       "      <td>1644364576</td>\n",
       "      <td>AMiner: Unusual occurrence frequencies of DNS ...</td>\n",
       "      <td>172.28.255.254</td>\n",
       "      <td>inet-dns</td>\n",
       "      <td>A-Dns-Clc1</td>\n",
       "      <td>false_positive</td>\n",
       "      <td>-</td>\n",
       "    </tr>\n",
       "    <tr>\n",
       "      <th>593947</th>\n",
       "      <td>1644364786</td>\n",
       "      <td>AMiner: CPU value deviates from average in mon...</td>\n",
       "      <td>192.168.130.229</td>\n",
       "      <td>monitoring</td>\n",
       "      <td>A-Mon-Avg</td>\n",
       "      <td>false_positive</td>\n",
       "      <td>-</td>\n",
       "    </tr>\n",
       "  </tbody>\n",
       "</table>\n",
       "<p>593948 rows × 7 columns</p>\n",
       "</div>"
      ],
      "text/plain": [
       "              time                                               name  \\\n",
       "0       1643932807  Suricata: Alert - ET INFO Observed DNS Query t...   \n",
       "1       1643932807     Wazuh: First time this IDS alert is generated.   \n",
       "2       1643932807     Wazuh: First time this IDS alert is generated.   \n",
       "3       1643932807  Suricata: Alert - ET INFO Observed DNS Query t...   \n",
       "4       1643932819  Suricata: Alert - ET INFO Observed DNS Query t...   \n",
       "...            ...                                                ...   \n",
       "593943  1644362611  AMiner: Unusual occurrence frequencies of DNS ...   \n",
       "593944  1644363011  AMiner: Unusual occurrence frequencies of DNS ...   \n",
       "593945  1644364024  AMiner: Unusual occurrence frequencies of DNS ...   \n",
       "593946  1644364576  AMiner: Unusual occurrence frequencies of DNS ...   \n",
       "593947  1644364786  AMiner: CPU value deviates from average in mon...   \n",
       "\n",
       "                     ip            host       short      time_label  \\\n",
       "0       192.168.131.109  internal_share  S-Dns-Qry3  false_positive   \n",
       "1       192.168.131.109  internal_share   W-All-Ids  false_positive   \n",
       "2         192.168.128.1   inet-firewall   W-All-Ids  false_positive   \n",
       "3         192.168.128.1   inet-firewall  S-Dns-Qry3  false_positive   \n",
       "4       192.168.131.109  internal_share  S-Dns-Qry3  false_positive   \n",
       "...                 ...             ...         ...             ...   \n",
       "593943   172.28.255.254        inet-dns  A-Dns-Clc1  false_positive   \n",
       "593944    192.168.128.1   inet-firewall  A-Dns-Clc1  false_positive   \n",
       "593945   172.28.255.254        inet-dns  A-Dns-Clc1  false_positive   \n",
       "593946   172.28.255.254        inet-dns  A-Dns-Clc1  false_positive   \n",
       "593947  192.168.130.229      monitoring   A-Mon-Avg  false_positive   \n",
       "\n",
       "       event_label  \n",
       "0          dnsteal  \n",
       "1                -  \n",
       "2                -  \n",
       "3          dnsteal  \n",
       "4          dnsteal  \n",
       "...            ...  \n",
       "593943           -  \n",
       "593944           -  \n",
       "593945           -  \n",
       "593946           -  \n",
       "593947           -  \n",
       "\n",
       "[593948 rows x 7 columns]"
      ]
     },
     "execution_count": 1,
     "metadata": {},
     "output_type": "execute_result"
    }
   ],
   "source": [
    "import pandas as pd\n",
    "import os\n",
    "import sys\n",
    "\n",
    "sys.path.append(os.path.abspath(\"..\"))\n",
    "df = pd.read_csv(\"harrison_alerts.csv\")\n",
    "df"
   ]
  },
  {
   "cell_type": "code",
   "execution_count": 2,
   "id": "5052c1d8",
   "metadata": {},
   "outputs": [
    {
     "data": {
      "text/html": [
       "<div>\n",
       "<style scoped>\n",
       "    .dataframe tbody tr th:only-of-type {\n",
       "        vertical-align: middle;\n",
       "    }\n",
       "\n",
       "    .dataframe tbody tr th {\n",
       "        vertical-align: top;\n",
       "    }\n",
       "\n",
       "    .dataframe thead th {\n",
       "        text-align: right;\n",
       "    }\n",
       "</style>\n",
       "<table border=\"1\" class=\"dataframe\">\n",
       "  <thead>\n",
       "    <tr style=\"text-align: right;\">\n",
       "      <th></th>\n",
       "      <th>timestamp</th>\n",
       "      <th>event</th>\n",
       "      <th>machine</th>\n",
       "      <th>label</th>\n",
       "    </tr>\n",
       "  </thead>\n",
       "  <tbody>\n",
       "    <tr>\n",
       "      <th>0</th>\n",
       "      <td>0</td>\n",
       "      <td>45</td>\n",
       "      <td>7</td>\n",
       "      <td>0</td>\n",
       "    </tr>\n",
       "    <tr>\n",
       "      <th>1</th>\n",
       "      <td>0</td>\n",
       "      <td>47</td>\n",
       "      <td>7</td>\n",
       "      <td>0</td>\n",
       "    </tr>\n",
       "    <tr>\n",
       "      <th>2</th>\n",
       "      <td>0</td>\n",
       "      <td>48</td>\n",
       "      <td>7</td>\n",
       "      <td>0</td>\n",
       "    </tr>\n",
       "    <tr>\n",
       "      <th>3</th>\n",
       "      <td>0</td>\n",
       "      <td>45</td>\n",
       "      <td>7</td>\n",
       "      <td>0</td>\n",
       "    </tr>\n",
       "    <tr>\n",
       "      <th>4</th>\n",
       "      <td>0</td>\n",
       "      <td>46</td>\n",
       "      <td>7</td>\n",
       "      <td>0</td>\n",
       "    </tr>\n",
       "    <tr>\n",
       "      <th>...</th>\n",
       "      <td>...</td>\n",
       "      <td>...</td>\n",
       "      <td>...</td>\n",
       "      <td>...</td>\n",
       "    </tr>\n",
       "    <tr>\n",
       "      <th>593943</th>\n",
       "      <td>431238</td>\n",
       "      <td>5</td>\n",
       "      <td>3</td>\n",
       "      <td>0</td>\n",
       "    </tr>\n",
       "    <tr>\n",
       "      <th>593944</th>\n",
       "      <td>431243</td>\n",
       "      <td>5</td>\n",
       "      <td>3</td>\n",
       "      <td>0</td>\n",
       "    </tr>\n",
       "    <tr>\n",
       "      <th>593945</th>\n",
       "      <td>431243</td>\n",
       "      <td>5</td>\n",
       "      <td>3</td>\n",
       "      <td>0</td>\n",
       "    </tr>\n",
       "    <tr>\n",
       "      <th>593946</th>\n",
       "      <td>431775</td>\n",
       "      <td>64</td>\n",
       "      <td>10</td>\n",
       "      <td>0</td>\n",
       "    </tr>\n",
       "    <tr>\n",
       "      <th>593947</th>\n",
       "      <td>431985</td>\n",
       "      <td>67</td>\n",
       "      <td>11</td>\n",
       "      <td>0</td>\n",
       "    </tr>\n",
       "  </tbody>\n",
       "</table>\n",
       "<p>593948 rows × 4 columns</p>\n",
       "</div>"
      ],
      "text/plain": [
       "        timestamp  event  machine  label\n",
       "0               0     45        7      0\n",
       "1               0     47        7      0\n",
       "2               0     48        7      0\n",
       "3               0     45        7      0\n",
       "4               0     46        7      0\n",
       "...           ...    ...      ...    ...\n",
       "593943     431238      5        3      0\n",
       "593944     431243      5        3      0\n",
       "593945     431243      5        3      0\n",
       "593946     431775     64       10      0\n",
       "593947     431985     67       11      0\n",
       "\n",
       "[593948 rows x 4 columns]"
      ]
     },
     "execution_count": 2,
     "metadata": {},
     "output_type": "execute_result"
    }
   ],
   "source": [
    "df.rename(columns={\n",
    "    'time': 'timestamp',\n",
    "    'name': 'event',\n",
    "    'host': 'machine',\n",
    "}, inplace=True)\n",
    "\n",
    "unique_events = df['event'].unique()\n",
    "event_map = {evt: idx + 1 for idx, evt in enumerate(unique_events)}\n",
    "df['event'] = df['event'].map(event_map)\n",
    "unique_machines = df['machine'].unique()\n",
    "machines_map = {mac: idx + 1 for idx, mac in enumerate(unique_machines)}\n",
    "df['machine'] = df['machine'].map(machines_map)\n",
    "# Create binary label column (0=normal, 1=anomalous)\n",
    "df['label'] = df['event_label'].apply(lambda x: 0 if x == '-' else 1)\n",
    "\n",
    "df.drop(columns=['event_label', 'time_label', 'short', 'ip'], inplace=True)\n",
    "\n",
    "df.sort_values(by=['timestamp'], inplace=True)\n",
    "min_timestamp = df['timestamp'].min()\n",
    "df['timestamp'] = df['timestamp'] - min_timestamp\n",
    "df.reset_index(drop=True, inplace=True)\n",
    "df"
   ]
  },
  {
   "cell_type": "code",
   "execution_count": 3,
   "id": "8d31cac1",
   "metadata": {},
   "outputs": [
    {
     "name": "stdout",
     "output_type": "stream",
     "text": [
      "Created 78 priority tokens\n",
      "\n",
      "\n",
      "\n"
     ]
    }
   ],
   "source": [
    "from tokenizer import tokenize\n",
    "\n",
    "tokenize(df, save_path=\"./numeric_tokenizer\")"
   ]
  },
  {
   "cell_type": "code",
   "execution_count": 4,
   "id": "f6b0f21b",
   "metadata": {},
   "outputs": [
    {
     "name": "stdout",
     "output_type": "stream",
     "text": [
      "Using device: cuda\n",
      "Starting training...\n",
      "==================================================\n",
      "\n",
      "Epoch 1/10\n",
      "------------------------------\n"
     ]
    },
    {
     "name": "stderr",
     "output_type": "stream",
     "text": [
      "Training: 100%|██████████| 4/4 [00:00<00:00,  6.95it/s, loss=0.6650, acc=0.7500, lr=2.00e-05]\n"
     ]
    },
    {
     "name": "stdout",
     "output_type": "stream",
     "text": [
      "\n",
      "Epoch 1 Summary:\n",
      "Train Loss: 0.7395, Train Acc: 0.5430\n",
      "Learning Rate: 2.00e-05\n",
      "\n",
      "Epoch 2/10\n",
      "------------------------------\n"
     ]
    },
    {
     "name": "stderr",
     "output_type": "stream",
     "text": [
      "Training: 100%|██████████| 4/4 [00:00<00:00, 40.31it/s, loss=0.5735, acc=0.8750, lr=1.78e-05]\n"
     ]
    },
    {
     "name": "stdout",
     "output_type": "stream",
     "text": [
      "\n",
      "Epoch 2 Summary:\n",
      "Train Loss: 0.6347, Train Acc: 0.6875\n",
      "Learning Rate: 1.78e-05\n",
      "\n",
      "Epoch 3/10\n",
      "------------------------------\n"
     ]
    },
    {
     "name": "stderr",
     "output_type": "stream",
     "text": [
      "Training: 100%|██████████| 4/4 [00:00<00:00, 42.93it/s, loss=0.4693, acc=0.8750, lr=1.56e-05]\n"
     ]
    },
    {
     "name": "stdout",
     "output_type": "stream",
     "text": [
      "\n",
      "Epoch 3 Summary:\n",
      "Train Loss: 0.5131, Train Acc: 0.9102\n",
      "Learning Rate: 1.56e-05\n",
      "\n",
      "Epoch 4/10\n",
      "------------------------------\n"
     ]
    },
    {
     "name": "stderr",
     "output_type": "stream",
     "text": [
      "Training: 100%|██████████| 4/4 [00:00<00:00, 42.83it/s, loss=0.5434, acc=0.8750, lr=1.33e-05]\n"
     ]
    },
    {
     "name": "stdout",
     "output_type": "stream",
     "text": [
      "\n",
      "Epoch 4 Summary:\n",
      "Train Loss: 0.4612, Train Acc: 0.9297\n",
      "Learning Rate: 1.33e-05\n",
      "\n",
      "Epoch 5/10\n",
      "------------------------------\n"
     ]
    },
    {
     "name": "stderr",
     "output_type": "stream",
     "text": [
      "Training: 100%|██████████| 4/4 [00:00<00:00, 41.14it/s, loss=0.3261, acc=1.0000, lr=1.11e-05]\n"
     ]
    },
    {
     "name": "stdout",
     "output_type": "stream",
     "text": [
      "\n",
      "Epoch 5 Summary:\n",
      "Train Loss: 0.3660, Train Acc: 0.9688\n",
      "Learning Rate: 1.11e-05\n",
      "\n",
      "Epoch 6/10\n",
      "------------------------------\n"
     ]
    },
    {
     "name": "stderr",
     "output_type": "stream",
     "text": [
      "Training: 100%|██████████| 4/4 [00:00<00:00, 42.72it/s, loss=0.3463, acc=0.8750, lr=8.89e-06]\n"
     ]
    },
    {
     "name": "stdout",
     "output_type": "stream",
     "text": [
      "\n",
      "Epoch 6 Summary:\n",
      "Train Loss: 0.3297, Train Acc: 0.9375\n",
      "Learning Rate: 8.89e-06\n",
      "\n",
      "Epoch 7/10\n",
      "------------------------------\n"
     ]
    },
    {
     "name": "stderr",
     "output_type": "stream",
     "text": [
      "Training: 100%|██████████| 4/4 [00:00<00:00, 42.67it/s, loss=0.2257, acc=1.0000, lr=6.67e-06]\n"
     ]
    },
    {
     "name": "stdout",
     "output_type": "stream",
     "text": [
      "\n",
      "Epoch 7 Summary:\n",
      "Train Loss: 0.2730, Train Acc: 0.9648\n",
      "Learning Rate: 6.67e-06\n",
      "\n",
      "Epoch 8/10\n",
      "------------------------------\n"
     ]
    },
    {
     "name": "stderr",
     "output_type": "stream",
     "text": [
      "Training: 100%|██████████| 4/4 [00:00<00:00, 42.65it/s, loss=0.3742, acc=0.8750, lr=4.44e-06]\n"
     ]
    },
    {
     "name": "stdout",
     "output_type": "stream",
     "text": [
      "\n",
      "Epoch 8 Summary:\n",
      "Train Loss: 0.2897, Train Acc: 0.9375\n",
      "Learning Rate: 4.44e-06\n",
      "\n",
      "Epoch 9/10\n",
      "------------------------------\n"
     ]
    },
    {
     "name": "stderr",
     "output_type": "stream",
     "text": [
      "Training: 100%|██████████| 4/4 [00:00<00:00, 42.47it/s, loss=0.1827, acc=1.0000, lr=2.22e-06]\n"
     ]
    },
    {
     "name": "stdout",
     "output_type": "stream",
     "text": [
      "\n",
      "Epoch 9 Summary:\n",
      "Train Loss: 0.2331, Train Acc: 0.9648\n",
      "Learning Rate: 2.22e-06\n",
      "\n",
      "Epoch 10/10\n",
      "------------------------------\n"
     ]
    },
    {
     "name": "stderr",
     "output_type": "stream",
     "text": [
      "Training: 100%|██████████| 4/4 [00:00<00:00, 42.40it/s, loss=0.3652, acc=0.8750, lr=0.00e+00]\n"
     ]
    },
    {
     "name": "stdout",
     "output_type": "stream",
     "text": [
      "\n",
      "Epoch 10 Summary:\n",
      "Train Loss: 0.2671, Train Acc: 0.9375\n",
      "Learning Rate: 0.00e+00\n",
      "\n",
      "==================================================\n",
      "Training completed!\n",
      "Best training accuracy: 0.9688\n"
     ]
    },
    {
     "name": "stderr",
     "output_type": "stream",
     "text": [
      "/home/rm521/.venv/lib/python3.12/site-packages/small_text/utils/annotations.py:67: ExperimentalWarning: The function from_arrays is experimental and maybe subject to change soon.\n",
      "  warnings.warn(f'The {subject} {func_or_class.__name__} is experimental '\n"
     ]
    },
    {
     "name": "stdout",
     "output_type": "stream",
     "text": [
      "Train accuracy: 0.99800\n",
      "Test accuracy: 0.99726\n",
      "Test F1 score: 0.99848\n",
      "Confusion Matrix (Test):\n",
      "[[ 51589    182]\n",
      " [  1236 464344]]\n"
     ]
    },
    {
     "name": "stderr",
     "output_type": "stream",
     "text": [
      "100%|██████████| 517151/517151 [02:34<00:00, 3357.58it/s]\n"
     ]
    },
    {
     "name": "stdout",
     "output_type": "stream",
     "text": [
      "Train accuracy: 0.99667\n",
      "Test accuracy: 0.99826\n",
      "Test F1 score: 0.99903\n",
      "Confusion Matrix (Test):\n",
      "[[ 51488    283]\n",
      " [   617 464963]]\n"
     ]
    },
    {
     "name": "stderr",
     "output_type": "stream",
     "text": [
      "100%|██████████| 517151/517151 [03:07<00:00, 2754.13it/s]\n"
     ]
    },
    {
     "name": "stdout",
     "output_type": "stream",
     "text": [
      "Train accuracy: 0.99857\n",
      "Test accuracy: 0.99890\n",
      "Test F1 score: 0.99939\n",
      "Confusion Matrix (Test):\n",
      "[[ 51477    294]\n",
      " [   274 465306]]\n"
     ]
    },
    {
     "name": "stderr",
     "output_type": "stream",
     "text": [
      "100%|██████████| 517151/517151 [01:48<00:00, 4766.85it/s]\n"
     ]
    },
    {
     "name": "stdout",
     "output_type": "stream",
     "text": [
      "Train accuracy: 0.99875\n",
      "Test accuracy: 0.99911\n",
      "Test F1 score: 0.99950\n",
      "Confusion Matrix (Test):\n",
      "[[ 51540    231]\n",
      " [   230 465350]]\n"
     ]
    },
    {
     "name": "stderr",
     "output_type": "stream",
     "text": [
      "100%|██████████| 517151/517151 [03:13<00:00, 2666.33it/s]\n"
     ]
    },
    {
     "name": "stdout",
     "output_type": "stream",
     "text": [
      "Train accuracy: 0.99333\n",
      "Test accuracy: 0.99910\n",
      "Test F1 score: 0.99950\n",
      "Confusion Matrix (Test):\n",
      "[[ 51419    352]\n",
      " [   113 465467]]\n"
     ]
    },
    {
     "name": "stderr",
     "output_type": "stream",
     "text": [
      "100%|██████████| 517151/517151 [01:44<00:00, 4967.26it/s]\n"
     ]
    },
    {
     "name": "stdout",
     "output_type": "stream",
     "text": [
      "Train accuracy: 0.99500\n",
      "Test accuracy: 0.99920\n",
      "Test F1 score: 0.99956\n",
      "Confusion Matrix (Test):\n",
      "[[ 51451    320]\n",
      " [    94 465486]]\n"
     ]
    },
    {
     "data": {
      "text/plain": [
       "<small_text.integrations.transformers.classifiers.classification.TransformerBasedClassification at 0x71db33a8cad0>"
      ]
     },
     "execution_count": 4,
     "metadata": {},
     "output_type": "execute_result"
    }
   ],
   "source": [
    "from train import train\n",
    "\n",
    "train(df, tokenizer_path=\"./numeric_tokenizer\", debug=True, num_queries_al=5)\n"
   ]
  }
 ],
 "metadata": {
  "kernelspec": {
   "display_name": ".venv (3.12.3)",
   "language": "python",
   "name": "python3"
  },
  "language_info": {
   "codemirror_mode": {
    "name": "ipython",
    "version": 3
   },
   "file_extension": ".py",
   "mimetype": "text/x-python",
   "name": "python",
   "nbconvert_exporter": "python",
   "pygments_lexer": "ipython3",
   "version": "3.12.3"
  }
 },
 "nbformat": 4,
 "nbformat_minor": 5
}
