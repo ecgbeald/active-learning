{
 "cells": [
  {
   "cell_type": "code",
   "execution_count": 1,
   "id": "98d7ea38",
   "metadata": {},
   "outputs": [
    {
     "data": {
      "text/html": [
       "<div>\n",
       "<style scoped>\n",
       "    .dataframe tbody tr th:only-of-type {\n",
       "        vertical-align: middle;\n",
       "    }\n",
       "\n",
       "    .dataframe tbody tr th {\n",
       "        vertical-align: top;\n",
       "    }\n",
       "\n",
       "    .dataframe thead th {\n",
       "        text-align: right;\n",
       "    }\n",
       "</style>\n",
       "<table border=\"1\" class=\"dataframe\">\n",
       "  <thead>\n",
       "    <tr style=\"text-align: right;\">\n",
       "      <th></th>\n",
       "      <th>time</th>\n",
       "      <th>name</th>\n",
       "      <th>ip</th>\n",
       "      <th>host</th>\n",
       "      <th>short</th>\n",
       "      <th>time_label</th>\n",
       "      <th>event_label</th>\n",
       "    </tr>\n",
       "  </thead>\n",
       "  <tbody>\n",
       "    <tr>\n",
       "      <th>0</th>\n",
       "      <td>1642213952</td>\n",
       "      <td>Wazuh: ClamAV database update</td>\n",
       "      <td>172.17.131.81</td>\n",
       "      <td>mail</td>\n",
       "      <td>W-Sys-Cav</td>\n",
       "      <td>false_positive</td>\n",
       "      <td>-</td>\n",
       "    </tr>\n",
       "    <tr>\n",
       "      <th>1</th>\n",
       "      <td>1642213952</td>\n",
       "      <td>Wazuh: ClamAV database update</td>\n",
       "      <td>192.168.128.170</td>\n",
       "      <td>jonesmorgan_mail</td>\n",
       "      <td>W-Sys-Cav</td>\n",
       "      <td>false_positive</td>\n",
       "      <td>-</td>\n",
       "    </tr>\n",
       "    <tr>\n",
       "      <th>2</th>\n",
       "      <td>1642213957</td>\n",
       "      <td>Wazuh: ClamAV database update</td>\n",
       "      <td>172.17.131.81</td>\n",
       "      <td>mail</td>\n",
       "      <td>W-Sys-Cav</td>\n",
       "      <td>false_positive</td>\n",
       "      <td>-</td>\n",
       "    </tr>\n",
       "    <tr>\n",
       "      <th>3</th>\n",
       "      <td>1642213962</td>\n",
       "      <td>Wazuh: ClamAV database update</td>\n",
       "      <td>172.17.131.81</td>\n",
       "      <td>mail</td>\n",
       "      <td>W-Sys-Cav</td>\n",
       "      <td>false_positive</td>\n",
       "      <td>-</td>\n",
       "    </tr>\n",
       "    <tr>\n",
       "      <th>4</th>\n",
       "      <td>1642213967</td>\n",
       "      <td>Wazuh: ClamAV database update</td>\n",
       "      <td>172.17.131.81</td>\n",
       "      <td>mail</td>\n",
       "      <td>W-Sys-Cav</td>\n",
       "      <td>false_positive</td>\n",
       "      <td>-</td>\n",
       "    </tr>\n",
       "    <tr>\n",
       "      <th>...</th>\n",
       "      <td>...</td>\n",
       "      <td>...</td>\n",
       "      <td>...</td>\n",
       "      <td>...</td>\n",
       "      <td>...</td>\n",
       "      <td>...</td>\n",
       "      <td>...</td>\n",
       "    </tr>\n",
       "    <tr>\n",
       "      <th>473099</th>\n",
       "      <td>1642633908</td>\n",
       "      <td>AMiner: Unusual occurrence frequencies of DNS ...</td>\n",
       "      <td>192.168.255.254</td>\n",
       "      <td>inet-dns</td>\n",
       "      <td>A-Dns-Clc1</td>\n",
       "      <td>false_positive</td>\n",
       "      <td>-</td>\n",
       "    </tr>\n",
       "    <tr>\n",
       "      <th>473100</th>\n",
       "      <td>1642634741</td>\n",
       "      <td>AMiner: Unusual occurrence frequencies of DNS ...</td>\n",
       "      <td>192.168.255.254</td>\n",
       "      <td>inet-dns</td>\n",
       "      <td>A-Dns-Clc1</td>\n",
       "      <td>false_positive</td>\n",
       "      <td>-</td>\n",
       "    </tr>\n",
       "    <tr>\n",
       "      <th>473101</th>\n",
       "      <td>1642635077</td>\n",
       "      <td>AMiner: Unusual occurrence frequencies of DNS ...</td>\n",
       "      <td>192.168.255.254</td>\n",
       "      <td>inet-dns</td>\n",
       "      <td>A-Dns-Clc1</td>\n",
       "      <td>false_positive</td>\n",
       "      <td>-</td>\n",
       "    </tr>\n",
       "    <tr>\n",
       "      <th>473102</th>\n",
       "      <td>1642635708</td>\n",
       "      <td>AMiner: Unusual occurrence frequencies of DNS ...</td>\n",
       "      <td>192.168.255.254</td>\n",
       "      <td>inet-dns</td>\n",
       "      <td>A-Dns-Clc1</td>\n",
       "      <td>false_positive</td>\n",
       "      <td>-</td>\n",
       "    </tr>\n",
       "    <tr>\n",
       "      <th>473103</th>\n",
       "      <td>1642636516</td>\n",
       "      <td>AMiner: Unusual occurrence frequencies of DNS ...</td>\n",
       "      <td>192.168.255.254</td>\n",
       "      <td>inet-dns</td>\n",
       "      <td>A-Dns-Clc1</td>\n",
       "      <td>false_positive</td>\n",
       "      <td>-</td>\n",
       "    </tr>\n",
       "  </tbody>\n",
       "</table>\n",
       "<p>473104 rows × 7 columns</p>\n",
       "</div>"
      ],
      "text/plain": [
       "              time                                               name  \\\n",
       "0       1642213952                      Wazuh: ClamAV database update   \n",
       "1       1642213952                      Wazuh: ClamAV database update   \n",
       "2       1642213957                      Wazuh: ClamAV database update   \n",
       "3       1642213962                      Wazuh: ClamAV database update   \n",
       "4       1642213967                      Wazuh: ClamAV database update   \n",
       "...            ...                                                ...   \n",
       "473099  1642633908  AMiner: Unusual occurrence frequencies of DNS ...   \n",
       "473100  1642634741  AMiner: Unusual occurrence frequencies of DNS ...   \n",
       "473101  1642635077  AMiner: Unusual occurrence frequencies of DNS ...   \n",
       "473102  1642635708  AMiner: Unusual occurrence frequencies of DNS ...   \n",
       "473103  1642636516  AMiner: Unusual occurrence frequencies of DNS ...   \n",
       "\n",
       "                     ip              host       short      time_label  \\\n",
       "0         172.17.131.81              mail   W-Sys-Cav  false_positive   \n",
       "1       192.168.128.170  jonesmorgan_mail   W-Sys-Cav  false_positive   \n",
       "2         172.17.131.81              mail   W-Sys-Cav  false_positive   \n",
       "3         172.17.131.81              mail   W-Sys-Cav  false_positive   \n",
       "4         172.17.131.81              mail   W-Sys-Cav  false_positive   \n",
       "...                 ...               ...         ...             ...   \n",
       "473099  192.168.255.254          inet-dns  A-Dns-Clc1  false_positive   \n",
       "473100  192.168.255.254          inet-dns  A-Dns-Clc1  false_positive   \n",
       "473101  192.168.255.254          inet-dns  A-Dns-Clc1  false_positive   \n",
       "473102  192.168.255.254          inet-dns  A-Dns-Clc1  false_positive   \n",
       "473103  192.168.255.254          inet-dns  A-Dns-Clc1  false_positive   \n",
       "\n",
       "       event_label  \n",
       "0                -  \n",
       "1                -  \n",
       "2                -  \n",
       "3                -  \n",
       "4                -  \n",
       "...            ...  \n",
       "473099           -  \n",
       "473100           -  \n",
       "473101           -  \n",
       "473102           -  \n",
       "473103           -  \n",
       "\n",
       "[473104 rows x 7 columns]"
      ]
     },
     "execution_count": 1,
     "metadata": {},
     "output_type": "execute_result"
    }
   ],
   "source": [
    "import pandas as pd\n",
    "import os\n",
    "import sys\n",
    "\n",
    "sys.path.append(os.path.abspath(\"..\"))\n",
    "df = pd.read_csv(\"fox_alerts.csv\")\n",
    "df"
   ]
  },
  {
   "cell_type": "code",
   "execution_count": 2,
   "id": "8f0828f9",
   "metadata": {},
   "outputs": [
    {
     "data": {
      "text/html": [
       "<div>\n",
       "<style scoped>\n",
       "    .dataframe tbody tr th:only-of-type {\n",
       "        vertical-align: middle;\n",
       "    }\n",
       "\n",
       "    .dataframe tbody tr th {\n",
       "        vertical-align: top;\n",
       "    }\n",
       "\n",
       "    .dataframe thead th {\n",
       "        text-align: right;\n",
       "    }\n",
       "</style>\n",
       "<table border=\"1\" class=\"dataframe\">\n",
       "  <thead>\n",
       "    <tr style=\"text-align: right;\">\n",
       "      <th></th>\n",
       "      <th>timestamp</th>\n",
       "      <th>event</th>\n",
       "      <th>machine</th>\n",
       "      <th>label</th>\n",
       "    </tr>\n",
       "  </thead>\n",
       "  <tbody>\n",
       "    <tr>\n",
       "      <th>0</th>\n",
       "      <td>0</td>\n",
       "      <td>47</td>\n",
       "      <td>10</td>\n",
       "      <td>0</td>\n",
       "    </tr>\n",
       "    <tr>\n",
       "      <th>1</th>\n",
       "      <td>0</td>\n",
       "      <td>44</td>\n",
       "      <td>10</td>\n",
       "      <td>0</td>\n",
       "    </tr>\n",
       "    <tr>\n",
       "      <th>2</th>\n",
       "      <td>0</td>\n",
       "      <td>48</td>\n",
       "      <td>10</td>\n",
       "      <td>0</td>\n",
       "    </tr>\n",
       "    <tr>\n",
       "      <th>3</th>\n",
       "      <td>0</td>\n",
       "      <td>44</td>\n",
       "      <td>10</td>\n",
       "      <td>0</td>\n",
       "    </tr>\n",
       "    <tr>\n",
       "      <th>4</th>\n",
       "      <td>0</td>\n",
       "      <td>44</td>\n",
       "      <td>10</td>\n",
       "      <td>0</td>\n",
       "    </tr>\n",
       "    <tr>\n",
       "      <th>...</th>\n",
       "      <td>...</td>\n",
       "      <td>...</td>\n",
       "      <td>...</td>\n",
       "      <td>...</td>\n",
       "    </tr>\n",
       "    <tr>\n",
       "      <th>473099</th>\n",
       "      <td>431720</td>\n",
       "      <td>1</td>\n",
       "      <td>1</td>\n",
       "      <td>0</td>\n",
       "    </tr>\n",
       "    <tr>\n",
       "      <th>473100</th>\n",
       "      <td>431725</td>\n",
       "      <td>1</td>\n",
       "      <td>1</td>\n",
       "      <td>0</td>\n",
       "    </tr>\n",
       "    <tr>\n",
       "      <th>473101</th>\n",
       "      <td>431730</td>\n",
       "      <td>1</td>\n",
       "      <td>1</td>\n",
       "      <td>0</td>\n",
       "    </tr>\n",
       "    <tr>\n",
       "      <th>473102</th>\n",
       "      <td>431735</td>\n",
       "      <td>1</td>\n",
       "      <td>1</td>\n",
       "      <td>0</td>\n",
       "    </tr>\n",
       "    <tr>\n",
       "      <th>473103</th>\n",
       "      <td>431735</td>\n",
       "      <td>1</td>\n",
       "      <td>1</td>\n",
       "      <td>0</td>\n",
       "    </tr>\n",
       "  </tbody>\n",
       "</table>\n",
       "<p>473104 rows × 4 columns</p>\n",
       "</div>"
      ],
      "text/plain": [
       "        timestamp  event  machine  label\n",
       "0               0     47       10      0\n",
       "1               0     44       10      0\n",
       "2               0     48       10      0\n",
       "3               0     44       10      0\n",
       "4               0     44       10      0\n",
       "...           ...    ...      ...    ...\n",
       "473099     431720      1        1      0\n",
       "473100     431725      1        1      0\n",
       "473101     431730      1        1      0\n",
       "473102     431735      1        1      0\n",
       "473103     431735      1        1      0\n",
       "\n",
       "[473104 rows x 4 columns]"
      ]
     },
     "execution_count": 2,
     "metadata": {},
     "output_type": "execute_result"
    }
   ],
   "source": [
    "df.rename(columns={\n",
    "    'time': 'timestamp',\n",
    "    'name': 'event',\n",
    "    'host': 'machine',\n",
    "}, inplace=True)\n",
    "\n",
    "unique_events = df['event'].unique()\n",
    "event_map = {evt: idx + 1 for idx, evt in enumerate(unique_events)}\n",
    "df['event'] = df['event'].map(event_map)\n",
    "unique_machines = df['machine'].unique()\n",
    "machines_map = {mac: idx + 1 for idx, mac in enumerate(unique_machines)}\n",
    "df['machine'] = df['machine'].map(machines_map)\n",
    "# Create binary label column (0=normal, 1=anomalous)\n",
    "df['label'] = df['event_label'].apply(lambda x: 0 if x == '-' else 1)\n",
    "\n",
    "df.drop(columns=['event_label', 'time_label', 'short', 'ip'], inplace=True)\n",
    "\n",
    "df.sort_values(by=['timestamp'], inplace=True)\n",
    "min_timestamp = df['timestamp'].min()\n",
    "df['timestamp'] = df['timestamp'] - min_timestamp\n",
    "df.reset_index(drop=True, inplace=True)\n",
    "df"
   ]
  },
  {
   "cell_type": "code",
   "execution_count": 3,
   "id": "31fb1922",
   "metadata": {},
   "outputs": [
    {
     "name": "stdout",
     "output_type": "stream",
     "text": [
      "Created 77 priority tokens\n",
      "\n",
      "\n",
      "\n"
     ]
    }
   ],
   "source": [
    "from tokenizer import tokenize\n",
    "\n",
    "tokenize(df, save_path=\"./numeric_tokenizer\")"
   ]
  },
  {
   "cell_type": "code",
   "execution_count": 4,
   "id": "b5422f7f",
   "metadata": {},
   "outputs": [
    {
     "name": "stdout",
     "output_type": "stream",
     "text": [
      "Using device: cuda\n",
      "Starting training...\n",
      "==================================================\n",
      "\n",
      "Epoch 1/10\n",
      "------------------------------\n"
     ]
    },
    {
     "name": "stderr",
     "output_type": "stream",
     "text": [
      "Training: 100%|██████████| 4/4 [00:00<00:00,  7.11it/s, loss=0.6901, acc=0.5000, lr=2.00e-05]\n"
     ]
    },
    {
     "name": "stdout",
     "output_type": "stream",
     "text": [
      "\n",
      "Epoch 1 Summary:\n",
      "Train Loss: 0.7150, Train Acc: 0.4336\n",
      "Learning Rate: 2.00e-05\n",
      "\n",
      "Epoch 2/10\n",
      "------------------------------\n"
     ]
    },
    {
     "name": "stderr",
     "output_type": "stream",
     "text": [
      "Training: 100%|██████████| 4/4 [00:00<00:00, 59.43it/s, loss=0.5381, acc=0.8750, lr=1.78e-05]\n"
     ]
    },
    {
     "name": "stdout",
     "output_type": "stream",
     "text": [
      "\n",
      "Epoch 2 Summary:\n",
      "Train Loss: 0.6005, Train Acc: 0.7812\n",
      "Learning Rate: 1.78e-05\n",
      "\n",
      "Epoch 3/10\n",
      "------------------------------\n"
     ]
    },
    {
     "name": "stderr",
     "output_type": "stream",
     "text": [
      "Training: 100%|██████████| 4/4 [00:00<00:00, 60.32it/s, loss=0.4179, acc=1.0000, lr=1.56e-05]\n"
     ]
    },
    {
     "name": "stdout",
     "output_type": "stream",
     "text": [
      "\n",
      "Epoch 3 Summary:\n",
      "Train Loss: 0.4734, Train Acc: 0.9648\n",
      "Learning Rate: 1.56e-05\n",
      "\n",
      "Epoch 4/10\n",
      "------------------------------\n"
     ]
    },
    {
     "name": "stderr",
     "output_type": "stream",
     "text": [
      "Training: 100%|██████████| 4/4 [00:00<00:00, 60.09it/s, loss=0.3711, acc=1.0000, lr=1.33e-05]\n"
     ]
    },
    {
     "name": "stdout",
     "output_type": "stream",
     "text": [
      "\n",
      "Epoch 4 Summary:\n",
      "Train Loss: 0.3874, Train Acc: 0.9766\n",
      "Learning Rate: 1.33e-05\n",
      "\n",
      "Epoch 5/10\n",
      "------------------------------\n"
     ]
    },
    {
     "name": "stderr",
     "output_type": "stream",
     "text": [
      "Training: 100%|██████████| 4/4 [00:00<00:00, 60.22it/s, loss=0.2531, acc=1.0000, lr=1.11e-05]\n"
     ]
    },
    {
     "name": "stdout",
     "output_type": "stream",
     "text": [
      "\n",
      "Epoch 5 Summary:\n",
      "Train Loss: 0.3038, Train Acc: 0.9766\n",
      "Learning Rate: 1.11e-05\n",
      "\n",
      "Epoch 6/10\n",
      "------------------------------\n"
     ]
    },
    {
     "name": "stderr",
     "output_type": "stream",
     "text": [
      "Training: 100%|██████████| 4/4 [00:00<00:00, 60.35it/s, loss=0.1993, acc=1.0000, lr=8.89e-06]\n"
     ]
    },
    {
     "name": "stdout",
     "output_type": "stream",
     "text": [
      "\n",
      "Epoch 6 Summary:\n",
      "Train Loss: 0.2477, Train Acc: 0.9766\n",
      "Learning Rate: 8.89e-06\n",
      "\n",
      "Epoch 7/10\n",
      "------------------------------\n"
     ]
    },
    {
     "name": "stderr",
     "output_type": "stream",
     "text": [
      "Training: 100%|██████████| 4/4 [00:00<00:00, 60.80it/s, loss=0.1676, acc=1.0000, lr=6.67e-06]\n"
     ]
    },
    {
     "name": "stdout",
     "output_type": "stream",
     "text": [
      "\n",
      "Epoch 7 Summary:\n",
      "Train Loss: 0.2139, Train Acc: 0.9766\n",
      "Learning Rate: 6.67e-06\n",
      "\n",
      "Epoch 8/10\n",
      "------------------------------\n"
     ]
    },
    {
     "name": "stderr",
     "output_type": "stream",
     "text": [
      "Training: 100%|██████████| 4/4 [00:00<00:00, 60.64it/s, loss=0.1405, acc=1.0000, lr=4.44e-06]\n"
     ]
    },
    {
     "name": "stdout",
     "output_type": "stream",
     "text": [
      "\n",
      "Epoch 8 Summary:\n",
      "Train Loss: 0.1806, Train Acc: 0.9766\n",
      "Learning Rate: 4.44e-06\n",
      "\n",
      "Epoch 9/10\n",
      "------------------------------\n"
     ]
    },
    {
     "name": "stderr",
     "output_type": "stream",
     "text": [
      "Training: 100%|██████████| 4/4 [00:00<00:00, 60.07it/s, loss=0.3025, acc=0.8750, lr=2.22e-06]\n"
     ]
    },
    {
     "name": "stdout",
     "output_type": "stream",
     "text": [
      "\n",
      "Epoch 9 Summary:\n",
      "Train Loss: 0.2063, Train Acc: 0.9492\n",
      "Learning Rate: 2.22e-06\n",
      "\n",
      "Epoch 10/10\n",
      "------------------------------\n"
     ]
    },
    {
     "name": "stderr",
     "output_type": "stream",
     "text": [
      "Training: 100%|██████████| 4/4 [00:00<00:00, 60.09it/s, loss=0.1490, acc=1.0000, lr=0.00e+00]\n"
     ]
    },
    {
     "name": "stdout",
     "output_type": "stream",
     "text": [
      "\n",
      "Epoch 10 Summary:\n",
      "Train Loss: 0.1657, Train Acc: 0.9766\n",
      "Learning Rate: 0.00e+00\n",
      "\n",
      "==================================================\n",
      "Training completed!\n",
      "Best training accuracy: 0.9766\n"
     ]
    },
    {
     "name": "stderr",
     "output_type": "stream",
     "text": [
      "/home/rm521/.venv/lib/python3.12/site-packages/small_text/utils/annotations.py:67: ExperimentalWarning: The function from_arrays is experimental and maybe subject to change soon.\n",
      "  warnings.warn(f'The {subject} {func_or_class.__name__} is experimental '\n"
     ]
    },
    {
     "name": "stdout",
     "output_type": "stream",
     "text": [
      "Train accuracy: 1.00000\n",
      "Test accuracy: 0.99958\n",
      "Test F1 score: 0.99978\n",
      "Confusion Matrix (Test):\n",
      "[[ 34606    157]\n",
      " [    32 419920]]\n"
     ]
    },
    {
     "name": "stderr",
     "output_type": "stream",
     "text": [
      "100%|██████████| 454515/454515 [02:44<00:00, 2770.79it/s]\n"
     ]
    },
    {
     "name": "stdout",
     "output_type": "stream",
     "text": [
      "Train accuracy: 1.00000\n",
      "Test accuracy: 0.99963\n",
      "Test F1 score: 0.99980\n",
      "Confusion Matrix (Test):\n",
      "[[ 34600    163]\n",
      " [     5 419947]]\n"
     ]
    },
    {
     "name": "stderr",
     "output_type": "stream",
     "text": [
      "100%|██████████| 454515/454515 [01:37<00:00, 4681.01it/s]\n"
     ]
    },
    {
     "name": "stdout",
     "output_type": "stream",
     "text": [
      "Train accuracy: 1.00000\n",
      "Test accuracy: 0.99962\n",
      "Test F1 score: 0.99979\n",
      "Confusion Matrix (Test):\n",
      "[[ 34595    168]\n",
      " [     6 419946]]\n"
     ]
    },
    {
     "name": "stderr",
     "output_type": "stream",
     "text": [
      "100%|██████████| 454515/454515 [04:20<00:00, 1744.14it/s]\n"
     ]
    },
    {
     "name": "stdout",
     "output_type": "stream",
     "text": [
      "Train accuracy: 0.99875\n",
      "Test accuracy: 0.99960\n",
      "Test F1 score: 0.99978\n",
      "Confusion Matrix (Test):\n",
      "[[ 34604    159]\n",
      " [    22 419930]]\n"
     ]
    },
    {
     "data": {
      "text/plain": [
       "<small_text.integrations.transformers.classifiers.classification.TransformerBasedClassification at 0x754c9be42bd0>"
      ]
     },
     "execution_count": 4,
     "metadata": {},
     "output_type": "execute_result"
    }
   ],
   "source": [
    "from train import train\n",
    "\n",
    "train(df, tokenizer_path=\"./numeric_tokenizer\", debug=True, num_queries_al=3)\n"
   ]
  }
 ],
 "metadata": {
  "kernelspec": {
   "display_name": ".venv (3.12.3)",
   "language": "python",
   "name": "python3"
  },
  "language_info": {
   "codemirror_mode": {
    "name": "ipython",
    "version": 3
   },
   "file_extension": ".py",
   "mimetype": "text/x-python",
   "name": "python",
   "nbconvert_exporter": "python",
   "pygments_lexer": "ipython3",
   "version": "3.12.3"
  }
 },
 "nbformat": 4,
 "nbformat_minor": 5
}
